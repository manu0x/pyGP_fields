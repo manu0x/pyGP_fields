{
 "cells": [
  {
   "cell_type": "code",
   "execution_count": 1,
   "id": "7f4f6bc5",
   "metadata": {},
   "outputs": [],
   "source": [
    "import numpy as np\n",
    "import matplotlib.pyplot as plt\n",
    "#from IPython.core.display import HTML\n",
    "#css_file = './custom.css'\n",
    "#HTML(open(css_file, \"r\").read())"
   ]
  },
  {
   "cell_type": "markdown",
   "id": "504c0075",
   "metadata": {},
   "source": [
    "Here we try to solve a Rasbha Spin Orbit Coupling without rotation\n",
    "\n",
    "  \n",
    "    \n",
    "    \n",
    "    \n",
    "    \n",
    "    "
   ]
  },
  {
   "cell_type": "code",
   "execution_count": 2,
   "id": "3047c58a",
   "metadata": {},
   "outputs": [],
   "source": [
    "from GPE import GPE_scalar_field\n",
    "from GPE import ImEx\n"
   ]
  },
  {
   "cell_type": "code",
   "execution_count": 3,
   "id": "56fe0f24",
   "metadata": {},
   "outputs": [
    {
     "name": "stdout",
     "output_type": "stream",
     "text": [
      "gamma beta shape (2, 2) (2, 2) [[1.1 0.9]\n",
      " [1.1 0.9]] [[400. 800.]\n",
      " [800. 400.]]\n"
     ]
    }
   ],
   "source": [
    "#3-d Fiducial example\n",
    "\n",
    "# Higueras (17)\n",
    "#A    = np.array([[0,0,0],[5/6.,0,0],[11/24,11/24,0]])\n",
    "#Ahat = np.array([[2./11,0,0],[205/462.,2./11,0],[2033/4620,21/110,2/11]])\n",
    "#b = np.array([24/55.,1./5,4./11])\n",
    "#bhat = b\n",
    "\n",
    "\n",
    "#\n",
    "ex_A = np.array([[0.0,0.0,0.0,0.0,0.0,0.0],[0.5,0.0,0.0,0.0,0.0,0.0],[0.25,0.25,0.0,0.0,0.0,0.0],[0.0,-1.0,2.0,0.0,0.0,0.0],[1.0/6.0,0.0,2.0/3.0,1.0/6.0,0.0,0.0],[1.0/6.0,0.0,2.0/3.0,1.0/6.0,0.0,0.0]])\n",
    "im_A = np.array([[0.0,0.0,0.0,0.0,0.0,0.0],[0.0,0.5,0.0,0.0,0.0,0.0],[0.25,-0.25,0.5,0.0,0.0,0.0],[0.0,1.0,0.0,0.0,0.0,0.0],[1.0/6.0,0.0,2.0/3.0,-4.0/3.0,1.5,0.0],[1.0/6.0,0.0,2.0/3.0,1.0/6.0,-2.0,2.0]])\n",
    "ex_b = np.array([1.0/6.0,0.0,2.0/3.0,1.0/6.0,0.0,0.0])\n",
    "im_b = np.array([1.0/6.0,0.0,2.0/3.0,1.0/6.0,-2.0,2.0])\n",
    "\n",
    "\n",
    "imx = ImEx(6,im_A,ex_A,im_b,ex_b)\n",
    "gmma1 = np.array([1.1,0.9])\n",
    "gmma2 = np.array([1.1,0.9])\n",
    "gmma = np.array([gmma1,gmma2])\n",
    "kppa = 2.0\n",
    "bta1 = np.array([400.0,800.0])\n",
    "bta2 = np.array([800.0,400.0])\n",
    "bta = np.array([bta1,bta2])\n",
    "\n",
    "\n",
    "print(\"gamma beta shape\",gmma.shape,bta.shape,gmma,bta)\n",
    "\n",
    "def V(j,x,y,gmma):\n",
    "\n",
    "    j=j-1\n",
    "    return(0.5*(gmma[j,0]*x*x+gmma[j,1]*y*y))\n",
    "\n",
    "\n",
    "def f(j,psi_1,psi_2,bta):\n",
    "\n",
    "    j=j-1\n",
    "    psi_1 = np.square(np.abs(psi_1))\n",
    "    \n",
    "    psi_2 = np.square(np.abs(psi_2))\n",
    "    \n",
    "    fv = bta[j][0]*psi_1+bta[j][1]*psi_2\n",
    "    \n",
    "    return(fv)\n",
    "\n",
    "\n",
    "def R(j,xix,xiy,psi_other):\n",
    "\n",
    "    psi_oft = np.fft.fftn(psi_other,psi_other.shape)\n",
    "    \n",
    "    psi_oft = 1j*psi_oft*(1j*xix+xiy*np.power(-1.0,3.0-j)) \n",
    "    \n",
    "    psi_oR = 1j*kppa*np.fft.ifftn(psi_oft,psi_oft.shape)\n",
    "    \n",
    "    return(psi_oR)\n",
    "    \n",
    "    \n",
    "\n",
    "\n",
    "\n",
    "def rhs_f(u,u_oth,j,x,y,xix,xiy,bta,gmma):\n",
    "    Vv = V(j,x,y,gmma)\n",
    "    \n",
    "    if(j==1):\n",
    "        fv = f(j,u,u_oth,bta)\n",
    "    else:\n",
    "        fv = f(j,u_oth,u,bta)\n",
    "        \n",
    "    Rv = R(j,xix,xiy,u_oth)\n",
    "    \n",
    "    return(-1j*(Vv+fv)*u + Rv)\n",
    "    \n",
    "\n",
    "\n",
    "def im_rhs(psi_ft,u_oth,j,x,y,xix,xiy,bta,gmma):\n",
    "    \n",
    "    xi2 = xix*xix+xiy*xiy\n",
    "   \n",
    "    psi_ft = -psi_ft*(xi2)\n",
    "    return(1j*0.5*np.fft.ifftn(psi_ft,psi_ft.shape))\n",
    "\n",
    "\n",
    "\n",
    "def calc_max_eig(u,xi2,kppa,bta):\n",
    "    \n",
    "    u2 = np.square(np.abs(u))\n",
    "    \n",
    "    vrhsft = -np.fft.fftn(u2-0.5,u2.shape)/xi2\n",
    "    vrhsft[0,0,0] = 0.0+0.0*1j\n",
    "    v = 0.5*(np.fft.ifftn(vrhsft,vrhsft.shape))/kppa;\n",
    "    \n",
    "    rhs = np.max(np.abs(bta-v))\n",
    "    \n",
    "    \n",
    "    \n",
    "    return (rhs)\n",
    "\n",
    "def sol_err(psi,t,nx,T,max_err=-1.0):\n",
    "\n",
    "    sol = np.exp(-1j*(2.0*t*np.pi/T))*np.sin(2.0*np.pi*nx)\n",
    "    #print(\"sol shape\",sol.shape,\"psi.shape\",psi.shape)\n",
    "    err = np.square(np.abs(sol-psi).flatten()).sum()\n",
    "    err = err/(np.square(np.abs(sol).flatten()).sum())\n",
    "    if(err>max_err):\n",
    "        max_err = err\n",
    "    return(max_err)\n",
    "\n",
    "\n",
    "def solve_rsoc_wor_example(m,dt):\n",
    "    L = 20.0\n",
    "    \n",
    "    x = np.arange(-m/2,m/2)*(L/m)\n",
    "    xx,yy = np.meshgrid(x,x)\n",
    "    xi = np.fft.fftfreq(m)*m*2*np.pi/L\n",
    "    xix,xiy = np.meshgrid(xi,xi)\n",
    "    \n",
    "    #nx = np.dot(pnv,xv)\n",
    "    \n",
    "    \n",
    "    T = 2.0\n",
    "    \n",
    "    \n",
    "    p1i = np.genfromtxt(\"test_phi1_i_ini.txt\")\n",
    "    p1r = np.genfromtxt(\"test_phi1_r_ini.txt\")\n",
    "    u1_ini = p1r+1j*p1i\n",
    "\n",
    "    p2i = np.genfromtxt(\"test_phi2_i_ini.txt\")\n",
    "    p2r = np.genfromtxt(\"test_phi2_r_ini.txt\")\n",
    "    u2_ini = p2r+1j*p2i\n",
    "    \n",
    "    print(\"u_ini shapes\",u1_ini.shape,u2_ini.shape)\n",
    "    print(\"xx shapes\",xx.shape,yy.shape,xix.shape,xiy.shape)\n",
    "    \n",
    "   \n",
    "    tmax = T\n",
    "\n",
    "    \n",
    "\n",
    "    num_plots = 50\n",
    "    nplt = np.floor((tmax/num_plots)/dt)\n",
    "    nmax = int(round(tmax/dt))\n",
    "    #print(nplt,\"nmax\",nmax)\n",
    "\n",
    "    frames1 = [u1_ini]\n",
    "    frames2 = [u2_ini]\n",
    "    tt = [0]\n",
    "    err_l = []\n",
    "    mass_l = []\n",
    "    mass_err_l=[]\n",
    "    \n",
    "    \n",
    "    \n",
    "    \n",
    "    psi_1 = GPE_scalar_field(2,m,im_rhs,rhs_f,imx,u1_ini)\n",
    "    psi_2 = GPE_scalar_field(2,m,im_rhs,rhs_f,imx,u2_ini)\n",
    "    \n",
    "    mass_ini = psi_1.mass_ini+psi_2.mass_ini\n",
    "    \n",
    "    print(\"Mass ini is \",mass_ini)\n",
    "    \n",
    "    xi2 = (xix*xix+xiy*xiy)\n",
    "    lmbda = 0.5*(xi2)\n",
    "    \n",
    "\n",
    "    \n",
    "    max_err = -1.0\n",
    "    \n",
    "        \n",
    "    for n in range(0,nmax):\n",
    "        \n",
    "        #print(n)\n",
    "        for k in range(imx.s):\n",
    "            psi_1.update_stage_sum(k,dt)\n",
    "            psi_2.update_stage_sum(k,dt)\n",
    "            psi_1.do_fft(k,lmbda,dt)\n",
    "            psi_2.do_fft(k,lmbda,dt)\n",
    "            psi_1.update_K(k,psi_2.f,1,xx,yy,xix,xiy,bta,gmma)\n",
    "            psi_2.update_K(k,psi_1.f,2,xx,yy,xix,xiy,bta,gmma)\n",
    "            \n",
    "            \n",
    "            \n",
    "        psi_1.sum_contributions(dt)\n",
    "        psi_2.sum_contributions(dt)\n",
    "        \n",
    "        \n",
    "        t = (n+1)*dt\n",
    "        \n",
    "#        max_egn = calc_max_eig(u,xi2,kppa,bta)\n",
    "#        if((max_egn*dt)>imx.r_of_stb.imag):\n",
    "#            print(\"maxeg*dt\",max_egn*dt,imx.r_of_stb.imag)\n",
    "#            dt  = 0.9*(imx.r_of_stb.imag/max_egn)\n",
    "        \n",
    "        \n",
    "        \n",
    "        if np.mod(n,nplt) == 0:\n",
    "            frames1.append(psi_1.psi)\n",
    "            frames2.append(psi_2.psi)\n",
    "            tt.append(t)\n",
    "            \n",
    "            #err = sol_err(psi.psi,t,nx,T,max_err)\n",
    "           # err_l.append(err)\n",
    "            \n",
    "            mass = psi_1.calc_mass()+psi_2.calc_mass()\n",
    "            mass_err = (mass-mass_ini)/mass_ini\n",
    "            \n",
    "            mass_l.append(mass)\n",
    "            mass_err_l.append(mass_err)\n",
    "            \n",
    "            print(\"time \",t/tmax,mass)\n",
    "            \n",
    "\n",
    "\n",
    "    #err =  sol_err(psi.psi,t,nx,T,max_err)\n",
    "    #err_l.append(err)\n",
    "            \n",
    "    mass = psi_1.calc_mass()+psi_2.calc_mass()\n",
    "    mass_err = (mass-mass_ini)/mass_ini\n",
    "            \n",
    "    mass_l.append(mass)\n",
    "    mass_err_l.append(mass_err)\n",
    "       \n",
    "    return frames1,frames2, mass_l,mass_err_l"
   ]
  },
  {
   "cell_type": "code",
   "execution_count": 7,
   "id": "b21ef8fb",
   "metadata": {},
   "outputs": [
    {
     "name": "stdout",
     "output_type": "stream",
     "text": [
      "u_ini shapes (512, 512) (512, 512)\n",
      "xx shapes (512, 512) (512, 512) (512, 512) (512, 512)\n",
      "class shapes (512, 512) (6, 512, 512)\n",
      "(512, 512) (512, 512)\n",
      "class shapes (512, 512) (6, 512, 512)\n",
      "(512, 512) (512, 512)\n",
      "Mass ini is  652.8025000000002\n",
      "time  0.0005 [652.8025]\n",
      "time  0.0205 [652.80249981]\n",
      "time  0.0405 [652.80249968]\n",
      "time  0.0605 [652.8024995]\n",
      "time  0.0805 [652.80249931]\n",
      "time  0.1005 [652.80249919]\n",
      "time  0.1205 [652.802499]\n",
      "time  0.1405 [652.80249883]\n",
      "time  0.1605 [652.80249861]\n",
      "time  0.1805 [652.80249838]\n",
      "time  0.2005 [652.80249814]\n",
      "time  0.2205 [652.80249792]\n",
      "time  0.2405 [652.80249767]\n",
      "time  0.2605 [652.80249742]\n",
      "time  0.2805 [652.80249717]\n",
      "time  0.3005 [652.80249693]\n",
      "time  0.3205 [652.80249669]\n",
      "time  0.3405 [652.80249647]\n",
      "time  0.3605 [652.80249623]\n",
      "time  0.3805 [652.80249597]\n",
      "time  0.4005 [652.80249573]\n",
      "time  0.4205 [652.80249548]\n",
      "time  0.4405 [652.80249523]\n",
      "time  0.4605 [652.80249498]\n",
      "time  0.4805 [652.80249472]\n",
      "time  0.5005000000000001 [652.80249446]\n",
      "time  0.5205 [652.80249423]\n",
      "time  0.5405 [652.80249399]\n",
      "time  0.5605 [652.80249379]\n",
      "time  0.5805 [652.80249359]\n",
      "time  0.6005 [652.80249341]\n",
      "time  0.6205 [652.80249325]\n",
      "time  0.6405 [652.8024931]\n",
      "time  0.6605 [652.80249297]\n",
      "time  0.6805 [652.80249283]\n",
      "time  0.7005 [652.80249268]\n",
      "time  0.7205 [652.80249254]\n",
      "time  0.7405 [652.80249239]\n",
      "time  0.7605000000000001 [652.80249225]\n",
      "time  0.7805 [652.80249209]\n",
      "time  0.8005 [652.80249194]\n",
      "time  0.8205 [652.80249176]\n",
      "time  0.8405 [652.80249158]\n",
      "time  0.8605 [652.80249139]\n",
      "time  0.8805000000000001 [652.80249122]\n",
      "time  0.9005 [652.80249103]\n",
      "time  0.9205 [652.80249086]\n",
      "time  0.9405 [652.80249068]\n",
      "time  0.9605 [652.8024905]\n",
      "time  0.9805 [652.8024903]\n"
     ]
    }
   ],
   "source": [
    "\n",
    "dt = 0.001\n",
    "\n",
    "\n",
    "frames1,frames2, mass_l,mass_err_l = solve_rsoc_wor_example(512,dt)"
   ]
  },
  {
   "cell_type": "code",
   "execution_count": 13,
   "id": "29074d7a",
   "metadata": {},
   "outputs": [],
   "source": [
    "f12 = np.square(np.abs(frames1[24]))\n",
    "f22 = np.square(np.abs(frames2[24]))\n",
    "\n",
    "b = f12+f22\n",
    "\n",
    "f12i = np.square(np.abs(frames1[0]))\n",
    "f22i = np.square(np.abs(frames2[0]))\n",
    "a = f12i+f22i"
   ]
  },
  {
   "cell_type": "code",
   "execution_count": 16,
   "id": "095afeb1",
   "metadata": {},
   "outputs": [
    {
     "data": {
      "text/plain": [
       "<matplotlib.image.AxesImage at 0x168a43b50>"
      ]
     },
     "execution_count": 16,
     "metadata": {},
     "output_type": "execute_result"
    },
    {
     "data": {
      "image/png": "[encoded data removed]",
      "text/plain": [
       "<Figure size 640x480 with 1 Axes>"
      ]
     },
     "metadata": {},
     "output_type": "display_data"
    }
   ],
   "source": [
    "plt.imshow(a)"
   ]
  },
  {
   "cell_type": "code",
   "execution_count": 16,
   "id": "036e025b",
   "metadata": {},
   "outputs": [
    {
     "data": {
      "text/plain": [
       "<matplotlib.image.AxesImage at 0x11dd25060>"
      ]
     },
     "execution_count": 16,
     "metadata": {},
     "output_type": "execute_result"
    },
    {
     "data": {
      "image/png": "[encoded data removed]",
      "text/plain": [
       "<Figure size 640x480 with 1 Axes>"
      ]
     },
     "metadata": {},
     "output_type": "display_data"
    }
   ],
   "source": [
    "plt.imshow(a)"
   ]
  },
  {
   "cell_type": "code",
   "execution_count": 20,
   "id": "8d9689d7",
   "metadata": {},
   "outputs": [
    {
     "name": "stdout",
     "output_type": "stream",
     "text": [
      "(51, 512, 512)\n"
     ]
    }
   ],
   "source": [
    "with open('test_rsoc_data_psi_1.npy', 'rb') as f:\n",
    "    d = np.load(f)\n",
    "    print(d.shape)"
   ]
  },
  {
   "cell_type": "code",
   "execution_count": 21,
   "id": "a74d50ac",
   "metadata": {},
   "outputs": [
    {
     "name": "stdout",
     "output_type": "stream",
     "text": [
      "(51, 512, 512)\n"
     ]
    }
   ],
   "source": [
    "with open('test_rsoc_data_psi_1.npy', 'rb') as f:\n",
    "    d2 = np.load(f)\n",
    "    print(d2.shape)"
   ]
  },
  {
   "cell_type": "code",
   "execution_count": 7,
   "id": "e3cee3b4",
   "metadata": {},
   "outputs": [],
   "source": []
  },
  {
   "cell_type": "code",
   "execution_count": 8,
   "id": "06fa171c",
   "metadata": {},
   "outputs": [
    {
     "data": {
      "text/plain": [
       "dtype('complex128')"
      ]
     },
     "execution_count": 8,
     "metadata": {},
     "output_type": "execute_result"
    }
   ],
   "source": [
    "u2_ini.dtype"
   ]
  },
  {
   "cell_type": "code",
   "execution_count": null,
   "id": "f26df8b6",
   "metadata": {},
   "outputs": [],
   "source": []
  }
 ],
 "metadata": {
  "kernelspec": {
   "display_name": "Python 3 (ipykernel)",
   "language": "python",
   "name": "python3"
  },
  "language_info": {
   "codemirror_mode": {
    "name": "ipython",
    "version": 3
   },
   "file_extension": ".py",
   "mimetype": "text/x-python",
   "name": "python",
   "nbconvert_exporter": "python",
   "pygments_lexer": "ipython3",
   "version": "3.10.11"
  }
 },
 "nbformat": 4,
 "nbformat_minor": 5
}
