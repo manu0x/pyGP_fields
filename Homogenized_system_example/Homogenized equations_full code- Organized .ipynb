{
 "cells": [
  {
   "cell_type": "code",
   "execution_count": 1,
   "id": "7feb85b2",
   "metadata": {},
   "outputs": [],
   "source": [
    "from scipy import integrate\n",
    "import sympy as sp\n",
    "import numpy as np\n",
    "from numpy import linalg as la \n",
    "%matplotlib inline\n",
    "import matplotlib\n",
    "import matplotlib.pyplot as plt\n",
    "import matplotlib.animation\n",
    "matplotlib.rcParams['animation.embed_limit'] = 2**128\n",
    "from IPython.display import HTML\n",
    "font = {'size'   : 15}\n",
    "matplotlib.rc('font', **font)\n",
    "from RKSchemes import ImEx_schemes\n",
    "from Homogenized_system_coefficients import C_values\n",
    "from Homogenized_system_coefficients import Homogenized_system_coef\n",
    "fft = np.fft.fft\n",
    "ifft = np.fft.ifft"
   ]
  },
  {
   "cell_type": "code",
   "execution_count": 2,
   "id": "de79f2ec",
   "metadata": {},
   "outputs": [],
   "source": [
    "a = lambda y: np.sin(2*np.pi*y)+5\n",
    "dady= lambda y: 2*np.pi*np.cos(2*np.pi*y)\n",
    "delta = 0.001\n",
    "C1, C2, C3, C4, C5, C6, C7, C8, avga,ainvavg = C_values(a=a,dady=dady,delta=delta)"
   ]
  },
  {
   "cell_type": "code",
   "execution_count": 3,
   "id": "4fa5449e",
   "metadata": {},
   "outputs": [],
   "source": [
    "gamma = 1.4 \n",
    "kappa =1\n",
    "p_0 = 1\n",
    "P1 = gamma*kappa*p_0**(gamma-1)\n",
    "P11= (gamma-1)*gamma*kappa*p_0**(gamma-2)\n",
    "r1,r2,r3,r4,r5,r6,k1,k2,k3,k4,k5,k6,k7=Homogenized_system_coef(C1,C2,C3,C4,C5,C6,C7,C8,avga,ainvavg,p_0,P1,P11,delta)"
   ]
  },
  {
   "cell_type": "code",
   "execution_count": 4,
   "id": "5355cc58",
   "metadata": {
    "scrolled": false
   },
   "outputs": [
    {
     "data": {
      "text/plain": [
       "[<matplotlib.lines.Line2D at 0x7fd3f0087820>]"
      ]
     },
     "execution_count": 4,
     "metadata": {},
     "output_type": "execute_result"
    },
    {
     "data": {
      "image/png": "[encoded data removed]",
      "text/plain": [
       "<Figure size 640x480 with 1 Axes>"
      ]
     },
     "metadata": {},
     "output_type": "display_data"
    }
   ],
   "source": [
    "L = 2*np.pi; m = 512\n",
    "x = np.arange(-m/2,m/2)*(L/m)\n",
    "xi = np.fft.fftfreq(m)*m*2*np.pi/L\n",
    "A = 0.5\n",
    "rho0 = p_0 + A*np.exp(-2.36*(x)**2)\n",
    "q0 = np.zeros_like(rho0)\n",
    "u0 = np.zeros(2*m)\n",
    "u0[:m] = rho0; u0[m:] = q0"
   ]
  },
  {
   "cell_type": "code",
   "execution_count": 6,
   "id": "50db59ed",
   "metadata": {},
   "outputs": [],
   "source": [
    "def rhs_linear(u,xi):\n",
    "    #Evaluate the linear term\n",
    "    m = len(xi)\n",
    "    rho = u[:m]; q = u[m:];\n",
    "    v = np.zeros_like(u)\n",
    "    rhohat = np.real(ifft(1j*xi*fft(rho)))\n",
    "    qhat = np.real(ifft(1j*xi*fft(q)))\n",
    "    rhs_rho = (1/avga)*(-qhat + r6*np.real(ifft((1j*xi)**3 *fft(q))))\n",
    "    rhs_q = k1*rhohat\n",
    "    v[:m] = rhs_rho; v[m:] = rhs_q;\n",
    "    return v"
   ]
  },
  {
   "cell_type": "code",
   "execution_count": 7,
   "id": "cc813383",
   "metadata": {},
   "outputs": [],
   "source": [
    "def rhs_nonlinear(u, xi):\n",
    "    #Evaluate the nonlinear term\n",
    "    m = len(xi)\n",
    "    rho = u[:m]; q = u[m:];\n",
    "    v = np.zeros_like(u)\n",
    "    rhox_f = np.real(ifft(1j*xi*fft(rho))); rh0xx_f = np.real(ifft((1j*xi)**2 *fft(rho)));\n",
    "    qx_f = np.real(ifft(1j*xi*fft(q))); qxx_f = np.real(ifft((1j*xi)**2 *fft(q)));\n",
    "    rhohat = fft(rho); qhat = fft(q)\n",
    "    rhs_rho = (1/avga)*( r1*q*rhox_f + r2*q**2*qx_f + r3*q*rh0xx_f  + \\\n",
    "                       r4*rhox_f*qx_f + r5*rho*q*rhox_f ) + 1.e-16\n",
    "    rhs_q = k2*q*qx_f + k3*rho*q*qx_f + (k4*q**2 + k5*rho)*rhox_f + k6*qx_f**2 + k7*q*qxx_f + 1.e-16\n",
    "    v[:m] = rhs_rho; v[m:] = rhs_q;\n",
    "    return v"
   ]
  }
 ],
 "metadata": {
  "kernelspec": {
   "display_name": "Python 3 (ipykernel)",
   "language": "python",
   "name": "python3"
  },
  "language_info": {
   "codemirror_mode": {
    "name": "ipython",
    "version": 3
   },
   "file_extension": ".py",
   "mimetype": "text/x-python",
   "name": "python",
   "nbconvert_exporter": "python",
   "pygments_lexer": "ipython3",
   "version": "3.10.11"
  }
 },
 "nbformat": 4,
 "nbformat_minor": 5
}
