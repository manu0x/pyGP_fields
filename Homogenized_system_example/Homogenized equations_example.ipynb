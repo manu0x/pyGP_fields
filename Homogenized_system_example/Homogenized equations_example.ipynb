{
 "cells": [
  {
   "cell_type": "code",
   "execution_count": 1,
   "id": "7feb85b2",
   "metadata": {},
   "outputs": [],
   "source": [
    "from scipy import integrate\n",
    "import sympy as sp\n",
    "import numpy as np\n",
    "from numpy import linalg as la \n",
    "%matplotlib inline\n",
    "import matplotlib\n",
    "import matplotlib.pyplot as plt\n",
    "import matplotlib.animation\n",
    "matplotlib.rcParams['animation.embed_limit'] = 2**128\n",
    "from IPython.display import HTML\n",
    "font = {'size'   : 15}\n",
    "matplotlib.rc('font', **font)\n",
    "#from RKSchemes import ImEx_schemes\n",
    "from Homogenized_system_coefficients import C_values\n",
    "from Homogenized_system_coefficients import Homogenized_system_coef\n",
    "fft = np.fft.fft\n",
    "ifft = np.fft.ifft"
   ]
  },
  {
   "cell_type": "code",
   "execution_count": 2,
   "id": "6700a898",
   "metadata": {},
   "outputs": [],
   "source": [
    "import sys"
   ]
  },
  {
   "cell_type": "code",
   "execution_count": 3,
   "id": "de79f2ec",
   "metadata": {},
   "outputs": [],
   "source": [
    "a = lambda y: np.sin(2*np.pi*y)+5\n",
    "dady= lambda y: 2*np.pi*np.cos(2*np.pi*y)\n",
    "delta = 0.001\n",
    "C1, C2, C3, C4, C5, C6, C7, C8, avga,ainvavg = C_values(a=a,dady=dady,delta=delta)"
   ]
  },
  {
   "cell_type": "code",
   "execution_count": 4,
   "id": "4fa5449e",
   "metadata": {},
   "outputs": [],
   "source": [
    "gamma = 1.4 \n",
    "kappa =1\n",
    "p_0 = 1\n",
    "P1 = gamma*kappa*p_0**(gamma-1)\n",
    "P11= (gamma-1)*gamma*kappa*p_0**(gamma-2)\n",
    "r1,r2,r3,r4,r5,r6,k1,k2,k3,k4,k5,k6,k7=Homogenized_system_coef(C1,C2,C3,C4,C5,C6,C7,C8,avga,ainvavg,p_0,P1,P11,delta)"
   ]
  },
  {
   "cell_type": "code",
   "execution_count": 5,
   "id": "5355cc58",
   "metadata": {
    "scrolled": false
   },
   "outputs": [
    {
     "name": "stdout",
     "output_type": "stream",
     "text": [
      "(512, 2, 2) complex128 (512, 2, 2) (512, 2) complex128\n"
     ]
    }
   ],
   "source": [
    "L = 2*np.pi; m = 512\n",
    "x = np.arange(-m/2,m/2)*(L/m)\n",
    "xi = np.fft.fftfreq(m)*m*2*np.pi/L\n",
    "A = 0.5\n",
    "rho0 = p_0 + A*np.exp(-2.36*(x)**2)\n",
    "q0 = np.zeros_like(rho0)\n",
    "#u0 = np.zeros(2*m)\n",
    "rho_ini = rho0+1j*np.zeros_like(rho0)\n",
    "q_ini  = q0 + 1j*np.zeros_like(q0)\n",
    "#u0[:m] = rho0; u0[m:] = q0\n",
    "\n",
    "rhoq_ini = np.array([[rho_ini[i],q_ini[i]] for i in range(q_ini.shape[0])])\n",
    "\n",
    "\n",
    "omega = (1.0/avga)*(-1j*xi+r6*(1j*xi)**3)\n",
    "bta = k1*1j*xi\n",
    "chk = np.ones_like(xi)\n",
    "l = [[[chk[i],-omega[i]],[-bta[i],chk[i]]] for i in range(len(xi))]\n",
    "f = np.array([[rho0[i],q0[i]] for i in range(len(x))])\n",
    "#dtl = -bta+omega\n",
    "mt = np.array(l)\n",
    "#lmdamat = [[-(bta/dtl), omega/dtl],[-(1.0/dtl), 1.0/dtl]]\n",
    "lmdamat = np.linalg.inv(mt)\n",
    "print(mt.shape, mt.dtype,lmdamat.shape,rhoq_ini.shape,rhoq_ini.dtype)"
   ]
  },
  {
   "cell_type": "code",
   "execution_count": 6,
   "id": "86c9ddd2",
   "metadata": {},
   "outputs": [
    {
     "data": {
      "text/plain": [
       "(512, 2)"
      ]
     },
     "execution_count": 6,
     "metadata": {},
     "output_type": "execute_result"
    }
   ],
   "source": [
    "ft = np.zeros_like(f)+1j*np.zeros_like(f)\n",
    "ft[:,0]=np.fft.fft(f[:,0])\n",
    "ft[:,1]=np.fft.fft(f[:,1])\n",
    "bbb = np.squeeze(np.matmul(lmdamat,np.expand_dims(ft,axis=-1)))\n",
    "bbb.shape"
   ]
  },
  {
   "cell_type": "code",
   "execution_count": 7,
   "id": "50db59ed",
   "metadata": {},
   "outputs": [],
   "source": [
    "def rhs_linear(uft,u,xi):\n",
    "    #Evaluate the linear term\n",
    "    m = len(xi)\n",
    "    #rho = u[:m]; q = u[m:];\n",
    "    rho = u[:,0]\n",
    "    q = u[:,1]\n",
    "    v = np.zeros_like(u)\n",
    "    rhohat = uft[:,0]\n",
    "    qhat = uft[:,1]\n",
    "    rhohat = np.real(ifft(1j*xi*rhohat))\n",
    "    qhat = np.real(ifft(1j*xi*qhat))\n",
    "    rhs_rho = (1/avga)*(-qhat + r6*np.real(ifft((1j*xi)**3 *fft(q))))\n",
    "    rhs_q = k1*rhohat\n",
    "    v[:,0] = rhs_rho; v[:,1] = rhs_q;\n",
    "    return v"
   ]
  },
  {
   "cell_type": "code",
   "execution_count": 8,
   "id": "b48d87b0",
   "metadata": {},
   "outputs": [],
   "source": [
    "def rhs_nonlinear(u,uft, xi):\n",
    "    #Evaluate the nonlinear term\n",
    "    m = len(xi)\n",
    "    rho = u[:,0]; q = u[:,1];\n",
    "    v = np.zeros_like(u)\n",
    "    rhox_f = np.real(ifft(1j*xi*fft(rho))); rh0xx_f = np.real(ifft((1j*xi)**2 *fft(rho)));\n",
    "    qx_f = np.real(ifft(1j*xi*fft(q))); qxx_f = np.real(ifft((1j*xi)**2 *fft(q)));\n",
    "    rhohat = fft(rho); qhat = fft(q)\n",
    "    rhs_rho = (1/avga)*( r1*q*rhox_f + r2*q**2*qx_f + r3*q*rh0xx_f  + \\\n",
    "                       r4*rhox_f*qx_f + r5*rho*q*rhox_f ) + 1.e-16\n",
    "    rhs_q = k2*q*qx_f + k3*rho*q*qx_f + (k4*q**2 + k5*rho)*rhox_f + k6*qx_f**2 + k7*q*qxx_f + 1.e-16\n",
    "    v[:,0] = rhs_rho; v[:,1] = rhs_q;\n",
    "    return v"
   ]
  },
  {
   "cell_type": "code",
   "execution_count": 9,
   "id": "31c7efd6",
   "metadata": {},
   "outputs": [],
   "source": [
    "sys.path.append('/Users/rajvanmp/station_X/pyGP_fields')"
   ]
  },
  {
   "cell_type": "code",
   "execution_count": 10,
   "id": "36ac4051",
   "metadata": {},
   "outputs": [],
   "source": [
    "from GPE import GPE_scalar_field\n",
    "from GPE import ImEx\n",
    "from GPE import GPE_scalar_field_1d2c"
   ]
  },
  {
   "cell_type": "code",
   "execution_count": 11,
   "id": "19ac4b8f",
   "metadata": {},
   "outputs": [],
   "source": [
    "A    = np.array([[0,0,0],[5/6.,0,0],[11/24,11/24,0]])\n",
    "Ahat = np.array([[2./11,0,0],[205/462.,2./11,0],[2033/4620,21/110,2/11]])\n",
    "b = np.array([24/55.,1./5,4./11])\n",
    "bhat = b\n",
    "\n",
    "imx = ImEx(3,Ahat,A,bhat,b)"
   ]
  },
  {
   "cell_type": "code",
   "execution_count": 18,
   "id": "3a3b8947",
   "metadata": {},
   "outputs": [],
   "source": [
    "def run_HE_example(dt):\n",
    "    \n",
    "    T = 1.0 \n",
    "    tmax = T\n",
    "\n",
    "    \n",
    "\n",
    "    num_plots = 50\n",
    "    nplt = np.floor((tmax/num_plots)/dt)\n",
    "    nmax = int(round(tmax/dt))\n",
    "    #print(nplt,\"nmax\",nmax)\n",
    "\n",
    "    frames = [rhoq_ini.real]\n",
    "   \n",
    "    tt = [0]\n",
    "    err_l = []\n",
    "    mass_l = []\n",
    "    mass_err_l=[]\n",
    "    \n",
    "    rhoq = GPE_scalar_field_1d2c(m,2,rhs_linear,rhs_nonlinear,imx,rhoq_ini)\n",
    "    \n",
    "    \n",
    "    for n in range(0,nmax):\n",
    "        \n",
    "        #print(n)\n",
    "        for k in range(imx.s):\n",
    "            rhoq.update_stage_sum(k,dt)\n",
    "            \n",
    "            rhoq.do_fft(k,lmdamat,dt)\n",
    "            \n",
    "            rhoq.update_K(k,xi)\n",
    "           \n",
    "            \n",
    "            \n",
    "            \n",
    "        rhoq.sum_contributions(dt)\n",
    "        \n",
    "        \n",
    "        \n",
    "        t = (n+1)*dt\n",
    "        \n",
    "\n",
    "        \n",
    "        \n",
    "        if np.mod(n,nplt) == 0:\n",
    "            frames.append(rhoq.psi.real)\n",
    "            \n",
    "            tt.append(t)\n",
    "            \n",
    "            #err = sol_err(psi.psi,t,nx,T,max_err)\n",
    "           # err_l.append(err)\n",
    "            \n",
    "           # mass = psi_1.calc_mass()+psi_2.calc_mass()\n",
    "           # mass_err = (mass-mass_ini)/mass_ini\n",
    "            \n",
    "          ##  mass_l.append(mass)\n",
    "           # mass_err_l.append(mass_err)\n",
    "            \n",
    "            print(\"time \",t/tmax)\n",
    "            \n",
    "\n",
    "\n",
    "    #err =  sol_err(psi.psi,t,nx,T,max_err)\n",
    "    #err_l.append(err)\n",
    "            \n",
    "   # mass = psi_1.calc_mass()+psi_2.calc_mass()\n",
    "    #mass_err = (mass-mass_ini)/mass_ini\n",
    "            \n",
    "   # mass_l.append(mass)\n",
    "   # mass_err_l.append(mass_err)\n",
    "       \n",
    "    return frames, mass_l,mass_err_l\n",
    "    "
   ]
  },
  {
   "cell_type": "code",
   "execution_count": 19,
   "id": "e06b53a4",
   "metadata": {},
   "outputs": [
    {
     "name": "stdout",
     "output_type": "stream",
     "text": [
      "class shapes (512, 2) (3, 512, 2)\n",
      "(512, 2) (512, 2)\n",
      "time  0.001\n",
      "time  0.021\n",
      "time  0.041\n",
      "time  0.061\n",
      "time  0.081\n",
      "time  0.101\n",
      "time  0.121\n",
      "time  0.14100000000000001\n",
      "time  0.161\n",
      "time  0.181\n",
      "time  0.201\n",
      "time  0.221\n",
      "time  0.241\n",
      "time  0.261\n",
      "time  0.281\n",
      "time  0.301\n",
      "time  0.321\n",
      "time  0.341\n",
      "time  0.361\n",
      "time  0.381\n",
      "time  0.401\n",
      "time  0.421\n",
      "time  0.441\n",
      "time  0.461\n",
      "time  0.481\n",
      "time  0.501\n",
      "time  0.521\n",
      "time  0.541\n",
      "time  0.561\n",
      "time  0.581\n",
      "time  0.601\n",
      "time  0.621\n",
      "time  0.641\n",
      "time  0.661\n",
      "time  0.681\n",
      "time  0.7010000000000001\n",
      "time  0.721\n",
      "time  0.741\n",
      "time  0.761\n",
      "time  0.781\n",
      "time  0.801\n",
      "time  0.8210000000000001\n",
      "time  0.841\n",
      "time  0.861\n",
      "time  0.881\n",
      "time  0.901\n",
      "time  0.921\n",
      "time  0.9410000000000001\n",
      "time  0.961\n",
      "time  0.981\n"
     ]
    }
   ],
   "source": [
    "f1,ml,mel = run_HE_example(0.001)"
   ]
  },
  {
   "cell_type": "code",
   "execution_count": 21,
   "id": "89d4c847",
   "metadata": {},
   "outputs": [
    {
     "data": {
      "text/plain": [
       "51"
      ]
     },
     "execution_count": 21,
     "metadata": {},
     "output_type": "execute_result"
    }
   ],
   "source": [
    "len(f1)"
   ]
  },
  {
   "cell_type": "code",
   "execution_count": 42,
   "id": "3dac1ee1",
   "metadata": {},
   "outputs": [
    {
     "data": {
      "image/png": "[encoded data removed]",
      "text/plain": [
       "<Figure size 640x480 with 1 Axes>"
      ]
     },
     "metadata": {},
     "output_type": "display_data"
    }
   ],
   "source": [
    "mrk = (\"b.\",\"r^\",\"k*\",\"m--\")\n",
    "for i in range(len(f1)):\n",
    "    ax = plt.subplot()\n",
    "    j=i%4\n",
    "    ax.plot(f1[i][:,0],mrk[j],label=str(i))"
   ]
  },
  {
   "cell_type": "code",
   "execution_count": null,
   "id": "547a3b96",
   "metadata": {},
   "outputs": [],
   "source": []
  }
 ],
 "metadata": {
  "kernelspec": {
   "display_name": "Python 3 (ipykernel)",
   "language": "python",
   "name": "python3"
  },
  "language_info": {
   "codemirror_mode": {
    "name": "ipython",
    "version": 3
   },
   "file_extension": ".py",
   "mimetype": "text/x-python",
   "name": "python",
   "nbconvert_exporter": "python",
   "pygments_lexer": "ipython3",
   "version": "3.10.11"
  }
 },
 "nbformat": 4,
 "nbformat_minor": 5
}
