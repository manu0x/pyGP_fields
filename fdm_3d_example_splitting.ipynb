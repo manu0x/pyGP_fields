{
 "cells": [
  {
   "cell_type": "code",
   "execution_count": 1,
   "id": "7f4f6bc5",
   "metadata": {},
   "outputs": [],
   "source": [
    "import numpy as np\n",
    "import matplotlib.pyplot as plt\n",
    "import h5py as h5\n",
    "#from IPython.core.display import HTML\n",
    "#css_file = './custom.css'\n",
    "#HTML(open(css_file, \"r\").read())"
   ]
  },
  {
   "cell_type": "markdown",
   "id": "504c0075",
   "metadata": {},
   "source": [
    "Here we attempt solve following equation:\n",
    "\n",
    "\\begin{equation}\n",
    "\\partial_a\\psi = i\\kappa\\frac{\\nabla^2\\psi}{a^3 \\mathcal{H}}-i\\frac{V\\psi}{a^2\\mathcal{H}}\n",
    "\\end{equation}\n",
    "  \n",
    "  where\n",
    "  \\begin{equation}\n",
    "  \\nabla^2V = \\frac{1}{2\\kappa}\\left(|\\psi|^2 -<|\\psi|^2> \\right)\n",
    "  \\end{equation}\n",
    "with\n",
    "\\begin{equation}\n",
    "\\mathcal{H} = \\sqrt{\\Omega a^{-3} + (1-\\Omega)}\n",
    "\\end{equation}\n",
    "\n",
    "$a$ is scale-factor of the Universe and is monotonically increasing with physical time and is used in this code as \n",
    "time variable.\n",
    "    \n",
    "    \n",
    "    \n",
    "    \n",
    "    "
   ]
  },
  {
   "cell_type": "code",
   "execution_count": 2,
   "id": "3047c58a",
   "metadata": {},
   "outputs": [],
   "source": [
    "#from GPE import GPE_scalar_field\n",
    "from GPE import ImEx\n",
    "import time"
   ]
  },
  {
   "cell_type": "code",
   "execution_count": 26,
   "id": "56fe0f24",
   "metadata": {},
   "outputs": [],
   "source": [
    "#3-d \n",
    "'''\n",
    "# Higueras (17)\n",
    "A    = np.array([[0,0,0],[5/6.,0,0],[11/24,11/24,0]])\n",
    "Ahat = np.array([[2./11,0,0],[205/462.,2./11,0],[2033/4620,21/110,2/11]])\n",
    "b = np.array([24/55.,1./5,4./11])\n",
    "bhat = b\n",
    "\n",
    "imC = np.array([2.0/11,289.0/462.0,751.0/924.0])\n",
    "\n",
    "exC= np.array([0.0,5.0/6.0,11.0/12.0])\n",
    "imx = ImEx(3,Ahat,A,bhat,b,imC,exC)\n",
    "'''\n",
    "########################### scheme_Car4_3_6L_2_SA   #####################################\n",
    "\n",
    "imA = np.array([[0.0,0.0,0.0,0.0,0.0,0.0],\n",
    "[0.25,0.25,0.0,0.0,0.0,0.0],\n",
    "[8611.0/62500.0,-1743.0/31250,0.25,0.0,0.0,0.0],\n",
    "[5012029.0/34652500.0,-654441.0/2922500.0,174375.0/388108.0,0.25,0.0,0.0],\n",
    "[15267082809.0/155376265600.0,-71443401.0/120774400.0, 730878875.0/902184768.0, 2285395.0/8070912.0,0.25,0.0],\n",
    "[82889.0/524892.0, 0.0, 15625.0/83664.0, 69875.0/102672.0, -2260.0/8211.0, 0.25]])\n",
    "\n",
    "exA = np.array([[0.0,0.0,0.0,0.0,0.0,0.0],\n",
    "[0.5,0.0,0.0,0.0,0.0,0.0],\n",
    "[13861.0/62500,  6889.0/62500.0,0.0,0.0,0.0,0.0],\n",
    "[-116923316275.0/2393684061468.0, -2731218467317.0/15368042101831.0, 9408046702089.0/11113171139209.0, 0.0,0.0,0.0],\n",
    "[-451086348788.0/2902428689909.0, -2682348792572.0/7519795681897.0, 12662868775082.0/11960479115383.0,3355817975965.0/11060851509271.0,0.0,0.0],\n",
    "[647845179188.0/3216320057751.0,73281519250.0/8382639484533.0, 552539513391.0/3454668386233.0, 3354512671639.0/8306763924573.0,4040.0/17871.0,0.0]])\n",
    "\n",
    "imb = np.array([82889.0/524892.0, 0.0, 15625.0/83664.0, 69875.0/102672.0,-2260.0/8211.0,0.25])\n",
    "exb = np.array([82889.0/524892.0, 0.0, 15625.0/83664.0, 69875.0/102672.0,-2260.0/8211.0,0.25])\n",
    "\n",
    "imC = np.array([0.0,0.5,83.0/250.0,31.0/50.0, 17.0/20.0,1.0])\n",
    "exC = np.array([0.0,0.5,83.0/250.0,31.0/50.0, 17.0/20.0,1.0])\n",
    "\n",
    "\n",
    "imx = ImEx(6,imA,exA,imb,exb,imC,exC)\n",
    "\n",
    "imx.cal_reg_of_stab()\n",
    "\n",
    "def load_psi_hdf5(file_name,n,use_zeldo=1):\n",
    "    f = h5.File(file_name,\"r\")\n",
    "    keys = list(f.keys())\n",
    "    if use_zeldo:\n",
    "        psi = f[\"psi_zeldo\"]\n",
    "    else:\n",
    "        psi = f[\"psi\"]\n",
    "        \n",
    "    psi = psi[:,0]+1j*psi[:,1]\n",
    "    psi = np.reshape(psi,(n,n,n))\n",
    "        \n",
    "    print(\"Psi shape\",psi.shape,psi.dtype)\n",
    "    \n",
    "    return psi\n",
    "\n",
    "\n",
    "def Hfunc(a,omega_m0,a0=1.0):\n",
    "    return( np.sqrt(omega_m0*(a0/a)*(a0/a)*(a0/a) + (1.0 - omega_m0))    )\n",
    "\n",
    "\n",
    "def rhs_f(u,xi2,kppa,a,da,s,omega_m0):\n",
    "    \n",
    "    u2 = np.square(np.abs(u))\n",
    "    vrhs = 1.5*omega_m0*(u2/np.mean(u2) -1.0)/kppa\n",
    "    vrhsft = -np.fft.fftn(vrhs,vrhs.shape)/xi2\n",
    "    vrhsft[0,0,0] = 0.0+0.0*1j\n",
    "    v = (np.fft.ifftn(vrhsft,vrhsft.shape));\n",
    "    \n",
    "    \n",
    "    ak = a+imx.ex_C[s]*da\n",
    "    H = Hfunc(ak,omega_m0)\n",
    "    \n",
    "    \n",
    "    return (-1j*v*u/(ak*ak*H))\n",
    "\n",
    "def im_rhs(psi_ft,xi2,kppa,a,da,s,omega_m0):\n",
    "   \n",
    "    psi_ft = -psi_ft*(xi2)\n",
    "    ak = a+imx.im_C[s]*da\n",
    "    H = Hfunc(ak,omega_m0)\n",
    "    return(1j*0.5*kppa*np.fft.ifftn(psi_ft,psi_ft.shape)/(ak*ak*ak*H))\n",
    "\n",
    "    #return(0.0)\n",
    "\n",
    "def calc_max_eig(u,xi2,kppa,a,omega_m0):\n",
    "    \n",
    "    u2 = np.square(np.abs(u))\n",
    "    vrhs = 0.5*(u2-np.mean(u2))/kppa\n",
    "    vrhsft = -np.fft.fftn(vrhs,vrhs.shape)/xi2\n",
    "    vrhsft[0,0,0] = 0.0+0.0*1j\n",
    "    v = (np.fft.ifftn(vrhsft,vrhsft.shape));\n",
    "    H= Hfunc(a,omega_m0)\n",
    "    mx = np.max(np.abs(v.real)/(a*a*H))\n",
    "    \n",
    "    return (mx)\n",
    "\n",
    "def sol_err(psi,t,nx,T,max_err=-1.0):\n",
    "\n",
    "    sol = np.exp(-1j*(2.0*t*np.pi/T))*np.sin(2.0*np.pi*nx)\n",
    "    #print(\"sol shape\",sol.shape,\"psi.shape\",psi.shape)\n",
    "    err = np.square(np.abs(sol-psi).flatten()).sum()\n",
    "    err = err/(np.square(np.abs(sol).flatten()).sum())\n",
    "    if(err>max_err):\n",
    "        max_err = err\n",
    "    return(max_err)\n",
    "\n",
    "\n",
    "\n",
    "def solve_fdm_example(N,da):\n",
    "    L = 1.0\n",
    "    \n",
    "    x = np.arange(-N/2,N/2)*(L/N)\n",
    "    xv,yv,zv = np.meshgrid(x,x,x)\n",
    "    xi = np.fft.fftfreq(N)*N*2*np.pi/L\n",
    "    xix,xiy,xiz = np.meshgrid(xi,xi,xi)\n",
    "    \n",
    "    c_unit = 2.99\n",
    "    hbar_unit = 6.582\n",
    "    pc_unit = 3.086\n",
    "    h = 0.67\n",
    "    m_alpha = 0.175\n",
    "    omega_m0 = 0.3\n",
    "    ai = 0.0078125\n",
    "    \n",
    "    kppa = c_unit*c_unit*hbar_unit*h*0.00001/(m_alpha*pc_unit)\n",
    "    \n",
    "   \n",
    "   \n",
    "    psi_ini = load_psi_hdf5(\"/Users/rajvanmp/station_X/pyGP_fields/test_fdm_dt/dc_128_dc_theta_psi_zeldo.hdf5\",N,1)\n",
    "   \n",
    "    \n",
    "   \n",
    "    #psl = np.reshape(np.genfromtxt(\"test_initial1.txt\",usecols=(4,5)),(N,N,N,2))\n",
    "    #psi_ini = (psl[:,:,:,0]/100.0)+1j*(psl[:,:,:,1]/100.0)\n",
    "    \n",
    "    print(psi_ini.shape)\n",
    "    \n",
    "    \n",
    "\n",
    "   \n",
    "    print(type(psi_ini),psi_ini.shape,psi_ini.dtype)\n",
    "    amax = 1.0\n",
    "\n",
    "    \n",
    "\n",
    "    num_plots = 50\n",
    "    nplt = np.floor(((amax-ai)/num_plots)/da)\n",
    "    if(nplt<1):\n",
    "        nplt  = 1\n",
    "    nmax = int(round((amax-ai)/da))\n",
    "    print(nplt,\"nmax\",nmax)\n",
    "\n",
    "    frames = [psi_ini.copy()]\n",
    "    aa = [0]\n",
    "    err_l = []\n",
    "    mass_l = []\n",
    "    mass_err_l=[]\n",
    "    \n",
    "\n",
    "    \n",
    "    \n",
    "    #psi = GPE_scalar_field(3,N,im_rhs,rhs_f,imx,psi_ini)\n",
    "    psi = 1.0*psi_ini\n",
    "    xi2 = (xix*xix+xiy*xiy+xiz*xiz)\n",
    "    lmbda_s = (0.5*kppa*xi2)\n",
    "    \n",
    "    u2 = np.square(np.abs(psi_ini))\n",
    "    vrhs = 0.5*(u2-np.mean(u2))/kppa\n",
    "    dlt = (u2-np.mean(u2))/(3.0*omega_m0)\n",
    "    vrhsft = -np.fft.fftn(vrhs,vrhs.shape)/xi2\n",
    "    vrhsft[0,0,0] = 0.0+0.0*1j\n",
    "    V = (np.fft.ifftn(vrhsft,vrhsft.shape))/(ai*ai*Hfunc(ai,omega_m0));\n",
    "    \n",
    "    mass_ini = np.sum(np.square(np.abs(psi)))\n",
    "    \n",
    "    ft_psi = np.fft.fftn(psi,psi.shape)\n",
    "    ft_mass_ini= np.sum(np.square(np.abs(ft_psi)))\n",
    "    \n",
    "    print(\"MASS INI is \",mass_ini,ft_mass_ini)\n",
    "    \n",
    "    max_err = -1.0\n",
    "    a = ai\n",
    "    start_time = time.time()    \n",
    "    for n in range(nmax):\n",
    "        \n",
    "        styH = np.sqrt(omega_m0*np.power(1.0/a,3.0) + (1.0-omega_m0))\n",
    "        \n",
    "        fac = 0.5*1j*da*V/(a*a*styH)\n",
    "        psi = np.exp(-fac)*psi\n",
    "        \n",
    "        ft_psi = np.fft.fftn(psi,psi.shape)\n",
    "        #print(\"FT B\",np.sum(np.square(np.abs(ft_psi))))\n",
    "        fac = 0.5*1j*kppa*da*xi2/(a*a*a*styH)\n",
    "        ft_psi = np.exp(-fac)*ft_psi\n",
    "        #print(\"FT A\",np.sum(np.square(np.abs(ft_psi))))\n",
    "        psi = np.fft.ifftn(ft_psi,ft_psi.shape)\n",
    "        \n",
    "        V_rhs = (0.5/kppa)*(np.square(np.abs(psi))-np.mean(np.square(np.abs(psi))))\n",
    "        ft_V = np.fft.fftn(V_rhs,V_rhs.shape)/xi2\n",
    "        ft_V[0,0,0] = 0.0+0.0*1j\n",
    "        V = np.fft.ifftn(-ft_V,ft_V.shape)\n",
    "        \n",
    "        fac = 0.5*1j*da*V/(a*a*styH)\n",
    "        psi = np.exp(-fac)*psi\n",
    "        \n",
    "        \n",
    "        a = ai+(n+1)*da\n",
    "        \n",
    "        #max_egn = calc_max_eig(psi,xi2,kppa,a,omega_m0)\n",
    "        #if((max_egn*da)>imx.r_of_stb.imag):\n",
    "        #    print(\"maxeg*dt @ n\",max_egn*da,n,k,imx.r_of_stb.imag)\n",
    "        #   da  = 0.9*(imx.r_of_stb.imag/max_egn)\n",
    "        \n",
    "        \n",
    "        \n",
    "        if np.mod(n,nplt) == 0:\n",
    "            frames.append(psi)\n",
    "            aa.append(a)\n",
    "           # err = sol_err(psi.psi,t,nx,T,max_err)\n",
    "          #  err_l.append(err)\n",
    "        \n",
    "            \n",
    "            \n",
    "            mass = np.sum(np.square(np.abs(psi)))#psi.calc_mass()\n",
    "            mass_err = np.abs((mass-mass_ini))/mass_ini\n",
    "            \n",
    "            print(np.abs(mass-mass_ini)/mass_ini)\n",
    "            \n",
    "            mass_l.append(mass)\n",
    "            mass_err_l.append(mass_err)\n",
    "            print(a,da)\n",
    "            \n",
    "\n",
    "\n",
    "   # err =  sol_err(psi.psi,t,nx,T,max_err)\n",
    "  #  err_l.append(err)\n",
    "            \n",
    "    mass = np.sum(np.square(np.abs(psi)))\n",
    "    mass_err = np.abs((mass-mass_ini))/mass_ini\n",
    "    \n",
    "    ft_psi = np.fft.fftn(psi,psi.shape)\n",
    "    ft_mass_last= np.sum(np.square(np.abs(ft_psi)))\n",
    "    \n",
    "    print(\"MASS LAST is \",mass,ft_mass_last)\n",
    "            \n",
    "    mass_l.append(mass)\n",
    "    mass_err_l.append(mass_err)\n",
    "       \n",
    "    return frames,mass_l,mass_err_l,(time.time() - start_time)"
   ]
  },
  {
   "cell_type": "code",
   "execution_count": 27,
   "id": "b21ef8fb",
   "metadata": {},
   "outputs": [
    {
     "name": "stdout",
     "output_type": "stream",
     "text": [
      "0\n",
      "Psi shape (128, 128, 128) complex128\n",
      "(128, 128, 128)\n",
      "<class 'numpy.ndarray'> (128, 128, 128) complex128\n",
      "19.0 nmax 992\n"
     ]
    },
    {
     "name": "stderr",
     "output_type": "stream",
     "text": [
      "/var/folders/ll/kxnszbbj3b1bqwnlk_bqpjl8ffbpq7/T/ipykernel_26230/643523617.py:170: RuntimeWarning: divide by zero encountered in divide\n",
      "  vrhsft = -np.fft.fftn(vrhs,vrhs.shape)/xi2\n",
      "/var/folders/ll/kxnszbbj3b1bqwnlk_bqpjl8ffbpq7/T/ipykernel_26230/643523617.py:170: RuntimeWarning: invalid value encountered in divide\n",
      "  vrhsft = -np.fft.fftn(vrhs,vrhs.shape)/xi2\n"
     ]
    },
    {
     "name": "stdout",
     "output_type": "stream",
     "text": [
      "MASS INI is  1887419.2483739264 3958205051565.875\n"
     ]
    },
    {
     "name": "stderr",
     "output_type": "stream",
     "text": [
      "/var/folders/ll/kxnszbbj3b1bqwnlk_bqpjl8ffbpq7/T/ipykernel_26230/643523617.py:199: RuntimeWarning: divide by zero encountered in divide\n",
      "  ft_V = np.fft.fftn(V_rhs,V_rhs.shape)/xi2\n",
      "/var/folders/ll/kxnszbbj3b1bqwnlk_bqpjl8ffbpq7/T/ipykernel_26230/643523617.py:199: RuntimeWarning: invalid value encountered in divide\n",
      "  ft_V = np.fft.fftn(V_rhs,V_rhs.shape)/xi2\n"
     ]
    },
    {
     "name": "stdout",
     "output_type": "stream",
     "text": [
      "2.467185219759318e-16\n",
      "0.008812500000000001 0.001\n",
      "7.401555659277955e-16\n",
      "0.0278125 0.001\n",
      "6.167963049398295e-16\n",
      "0.0468125 0.001\n",
      "1.1102333488916931e-15\n",
      "0.0658125 0.001\n",
      "3.4540593076630454e-15\n",
      "0.0848125 0.001\n",
      "4.5642926565547385e-15\n",
      "0.1038125 0.001\n",
      "6.414681571374227e-15\n",
      "0.1228125 0.001\n",
      "8.14171122520575e-15\n",
      "0.1418125 0.001\n",
      "9.745381618049306e-15\n",
      "0.1608125 0.001\n",
      "1.0978974227928965e-14\n",
      "0.17981250000000001 0.001\n",
      "1.1965848315832692e-14\n",
      "0.1988125 0.001\n",
      "1.3076081664724387e-14\n",
      "0.2178125 0.001\n",
      "1.504982984053184e-14\n",
      "0.2368125 0.001\n",
      "1.6036703928435568e-14\n",
      "0.2558125 0.001\n",
      "1.8257170626218954e-14\n",
      "0.2748125 0.001\n",
      "1.9367403975110647e-14\n",
      "0.29381250000000003 0.001\n",
      "2.0971074367954205e-14\n",
      "0.3128125 0.001\n",
      "2.1834589194869966e-14\n",
      "0.3318125 0.001\n",
      "2.4178415153641316e-14\n",
      "0.3508125 0.001\n",
      "2.6275522590436738e-14\n",
      "0.3698125 0.001\n",
      "2.7509115200316396e-14\n",
      "0.3888125 0.001\n",
      "2.849598928822012e-14\n",
      "0.4078125 0.001\n",
      "3.0346378203039614e-14\n",
      "0.4268125 0.001\n",
      "3.1703330073907236e-14\n",
      "0.4458125 0.001\n",
      "3.404715603267859e-14\n",
      "0.4648125 0.001\n",
      "3.491067085959435e-14\n",
      "0.48381250000000003 0.001\n",
      "3.7501215340341637e-14\n",
      "0.5028125 0.001\n",
      "3.824137090626943e-14\n",
      "0.5218125 0.001\n",
      "3.922824499417316e-14\n",
      "0.5408125 0.001\n",
      "4.218886725788434e-14\n",
      "0.5598125 0.001\n",
      "4.4779411738631624e-14\n",
      "0.5788125000000001 0.001\n",
      "4.4409333955667724e-14\n",
      "0.5978125 0.001\n",
      "4.6753159914439075e-14\n",
      "0.6168125 0.001\n",
      "4.835683030728263e-14\n",
      "0.6358125 0.001\n",
      "5.033057848309009e-14\n",
      "0.6548125 0.001\n",
      "5.193424887593365e-14\n",
      "0.6738125 0.001\n",
      "5.403135631272907e-14\n",
      "0.6928125 0.001\n",
      "5.5511667444584656e-14\n",
      "0.7118125 0.001\n",
      "5.760877488138008e-14\n",
      "0.7308125 0.001\n",
      "5.908908601323566e-14\n",
      "0.7498125 0.001\n",
      "6.04460378841033e-14\n",
      "0.7688125 0.001\n",
      "6.254314532089872e-14\n",
      "0.7878125 0.001\n",
      "6.451689349670616e-14\n",
      "0.8068125 0.001\n",
      "6.599720462856176e-14\n",
      "0.8258125000000001 0.001\n",
      "6.760087502140532e-14\n",
      "0.8448125 0.001\n",
      "6.957462319721277e-14\n",
      "0.8638125 0.001\n",
      "7.130165285104429e-14\n",
      "0.8828125 0.001\n",
      "7.290532324388785e-14\n",
      "0.9018125 0.001\n",
      "7.401555659277954e-14\n",
      "0.9208125 0.001\n",
      "7.660610107352682e-14\n",
      "0.9398125 0.001\n",
      "7.734625663945462e-14\n",
      "0.9588125000000001 0.001\n",
      "7.907328629328614e-14\n",
      "0.9778125 0.001\n",
      "8.10470344690936e-14\n",
      "0.9968125 0.001\n",
      "MASS LAST is  1887419.2483740798 3958205051566.198\n",
      "1\n",
      "Psi shape (128, 128, 128) complex128\n",
      "(128, 128, 128)\n",
      "<class 'numpy.ndarray'> (128, 128, 128) complex128\n",
      "39.0 nmax 1984\n",
      "MASS INI is  1887419.2483739264 3958205051565.875\n",
      "4.934370439518636e-16\n",
      "0.0083125 0.0005\n",
      "1.1102333488916931e-15\n",
      "0.0278125 0.0005\n",
      "1.233592609879659e-15\n",
      "0.0473125 0.0005\n",
      "1.233592609879659e-15\n",
      "0.0668125 0.0005\n",
      "4.5642926565547385e-15\n",
      "0.0863125 0.0005\n",
      "7.894992703229818e-15\n",
      "0.1058125 0.0005\n",
      "1.147241127188083e-14\n",
      "0.1253125 0.0005\n",
      "1.5173189101519807e-14\n",
      "0.1448125 0.0005\n",
      "1.9244044714122683e-14\n",
      "0.1643125 0.0005\n",
      "2.0971074367954205e-14\n",
      "0.1838125 0.0005\n",
      "2.3314900326725555e-14\n",
      "0.2033125 0.0005\n",
      "2.7509115200316396e-14\n",
      "0.2228125 0.0005\n",
      "2.948286337612385e-14\n",
      "0.24231250000000001 0.0005\n",
      "3.3307000466750793e-14\n",
      "0.2618125 0.0005\n",
      "3.6390981991449944e-14\n",
      "0.2813125 0.0005\n",
      "3.9351604255161123e-14\n",
      "0.3008125 0.0005\n",
      "4.26823043018362e-14\n",
      "0.3203125 0.0005\n",
      "4.527284878258349e-14\n",
      "0.3398125 0.0005\n",
      "4.872690809024653e-14\n",
      "0.35931250000000003 0.0005\n",
      "5.144081183198178e-14\n",
      "0.3788125 0.0005\n",
      "5.46481526176689e-14\n",
      "0.3983125 0.0005\n",
      "5.822557118631991e-14\n",
      "0.41781250000000003 0.0005\n",
      "6.106283418904312e-14\n",
      "0.4373125 0.0005\n",
      "6.488697127967007e-14\n",
      "0.4568125 0.0005\n",
      "6.760087502140532e-14\n",
      "0.4763125 0.0005\n",
      "7.179508989499616e-14\n",
      "0.4958125 0.0005\n",
      "7.463235289771937e-14\n",
      "0.5153125000000001 0.0005\n",
      "7.771633442241852e-14\n",
      "0.5348125 0.0005\n",
      "8.166383077403343e-14\n",
      "0.5543125 0.0005\n",
      "8.548796786466037e-14\n",
      "0.5738125000000001 0.0005\n",
      "8.758507530145579e-14\n",
      "0.5933125 0.0005\n",
      "9.214936795801053e-14\n",
      "0.6128125 0.0005\n",
      "9.585014578764951e-14\n",
      "0.6323125 0.0005\n",
      "9.881076805136069e-14\n",
      "0.6518125 0.0005\n",
      "1.0251154588099967e-13\n",
      "0.6713125 0.0005\n",
      "1.0510209036174695e-13\n",
      "0.6908125 0.0005\n",
      "1.0941966449632576e-13\n",
      "0.7103125 0.0005\n",
      "1.1373723863090456e-13\n",
      "0.7298125 0.0005\n",
      "1.1645114237263982e-13\n",
      "0.7493125 0.0005\n",
      "1.2052199798524268e-13\n",
      "0.7688125 0.0005\n",
      "1.226191054220381e-13\n",
      "0.7883125 0.0005\n",
      "1.2730675733958083e-13\n",
      "0.8078125 0.0005\n",
      "1.3076081664724386e-13\n",
      "0.8273125 0.0005\n",
      "1.33844798171943e-13\n",
      "0.8468125 0.0005\n",
      "1.3729885747960605e-13\n",
      "0.8663125 0.0005\n",
      "1.4025947974331723e-13\n",
      "0.8858125 0.0005\n",
      "1.4445369461690807e-13\n",
      "0.9053125 0.0005\n",
      "1.4753767614160723e-13\n",
      "0.9248125 0.0005\n",
      "1.5160853175421009e-13\n",
      "0.9443125 0.0005\n",
      "1.5444579475693332e-13\n",
      "0.9638125000000001 0.0005\n",
      "1.5839329110854823e-13\n",
      "0.9833125 0.0005\n",
      "MASS LAST is  1887419.2483742316 3958205051566.5146\n"
     ]
    }
   ],
   "source": [
    "da = 0.001\n",
    "er = []\n",
    "dal = []\n",
    "for i in range(2):\n",
    "        print(i)\n",
    "        frames,mass_l,mass_err_l,comp_time = solve_fdm_example(128,da)\n",
    "        \n",
    "        er.append(np.max(np.abs(mass_err_l)))\n",
    "        dal.append(da)\n",
    "        \n",
    "        da = 0.5*da\n",
    "        \n",
    "        \n",
    "\n",
    "er = np.array(er)\n",
    "dal = np.array(dal)\n",
    "\n",
    "ldt = np.log(dal)\n",
    "lerrmx = np.log(er)\n",
    "#print(ldt)\n",
    "\n",
    "z= np.polyfit(ldt,lerrmx,1)\n",
    "\n",
    "#print(z)"
   ]
  },
  {
   "cell_type": "code",
   "execution_count": 30,
   "id": "b4bdcb1e",
   "metadata": {},
   "outputs": [],
   "source": [
    "with open('splitting_psi_0p5m4.npy', 'wb') as f:\n",
    "    np.save(f,frames[-1])"
   ]
  },
  {
   "cell_type": "code",
   "execution_count": 28,
   "id": "8cf14ec0",
   "metadata": {},
   "outputs": [
    {
     "data": {
      "text/plain": [
       "(128, 128, 128)"
      ]
     },
     "execution_count": 28,
     "metadata": {},
     "output_type": "execute_result"
    }
   ],
   "source": [
    "frames[-1].shape"
   ]
  },
  {
   "cell_type": "code",
   "execution_count": 12,
   "id": "558f702e",
   "metadata": {},
   "outputs": [
    {
     "data": {
      "text/plain": [
       "array([ 0.27362037, -1.2562873 ])"
      ]
     },
     "execution_count": 12,
     "metadata": {},
     "output_type": "execute_result"
    }
   ],
   "source": [
    "        \n",
    "\n",
    "er = np.array(er)\n",
    "dal = np.array(dal)\n",
    "\n",
    "ldt = np.log(dal)\n",
    "lerrmx = np.log(er)\n",
    "\n",
    "\n",
    "z= np.polyfit(ldt,lerrmx,1)\n",
    "z"
   ]
  },
  {
   "cell_type": "code",
   "execution_count": 13,
   "id": "8855771b",
   "metadata": {},
   "outputs": [
    {
     "data": {
      "text/plain": [
       "[<matplotlib.lines.Line2D at 0x2930066e0>]"
      ]
     },
     "execution_count": 13,
     "metadata": {},
     "output_type": "execute_result"
    },
    {
     "data": {
      "image/png": "[encoded data removed]",
      "text/plain": [
       "<Figure size 640x480 with 1 Axes>"
      ]
     },
     "metadata": {},
     "output_type": "display_data"
    }
   ],
   "source": [
    "plt.plot(dal,er,\"*-\")"
   ]
  },
  {
   "cell_type": "code",
   "execution_count": 15,
   "id": "d1638199",
   "metadata": {},
   "outputs": [
    {
     "name": "stdout",
     "output_type": "stream",
     "text": [
      "[0.001  0.0005]\n",
      "[0.04300711 0.03557724]\n"
     ]
    }
   ],
   "source": [
    "print(dal)\n",
    "print(er)"
   ]
  },
  {
   "cell_type": "code",
   "execution_count": 86,
   "id": "95d6ad0a",
   "metadata": {},
   "outputs": [
    {
     "name": "stdout",
     "output_type": "stream",
     "text": [
      "[1.48107407 0.54666867] [ 0.64806944 -0.00258688]\n"
     ]
    }
   ],
   "source": [
    "er9 = np.array([0.010032908622657452,0.008318895463512969,0.0058032856589819125,0.003759421933143914])\n",
    "dal = np.array([0.02,0.016,0.0128,0.01024])\n",
    "\n",
    "\n",
    "zl =  np.polyfit(dal,er9,1)\n",
    "print(z,zl)"
   ]
  },
  {
   "cell_type": "code",
   "execution_count": 72,
   "id": "83ece86e",
   "metadata": {},
   "outputs": [],
   "source": [
    "er = [0.011023150021712851,0.003329787928342017,0.0016355046529647603,0.0013103337915628308,0.0011128141757339501]"
   ]
  },
  {
   "cell_type": "code",
   "execution_count": 87,
   "id": "cedf1d80",
   "metadata": {},
   "outputs": [
    {
     "data": {
      "text/plain": [
       "[<matplotlib.lines.Line2D at 0x3b52157e0>]"
      ]
     },
     "execution_count": 87,
     "metadata": {},
     "output_type": "execute_result"
    },
    {
     "data": {
      "image/png": "[encoded data removed]",
      "text/plain": [
       "<Figure size 640x480 with 1 Axes>"
      ]
     },
     "metadata": {},
     "output_type": "display_data"
    }
   ],
   "source": [
    "plt.plot(dal,er9,\"*-\")"
   ]
  },
  {
   "cell_type": "code",
   "execution_count": 40,
   "id": "74476fcf",
   "metadata": {},
   "outputs": [
    {
     "data": {
      "text/plain": [
       "[<matplotlib.lines.Line2D at 0x29118e350>]"
      ]
     },
     "execution_count": 40,
     "metadata": {},
     "output_type": "execute_result"
    },
    {
     "data": {
      "image/png": "[encoded data removed]",
      "text/plain": [
       "<Figure size 640x480 with 1 Axes>"
      ]
     },
     "metadata": {},
     "output_type": "display_data"
    }
   ],
   "source": [
    "plt.plot(mass_l,\"*\")"
   ]
  },
  {
   "cell_type": "code",
   "execution_count": 41,
   "id": "e1b0189f",
   "metadata": {},
   "outputs": [
    {
     "data": {
      "text/plain": [
       "[array([1886784.6361173]),\n",
       " array([1886843.78919322]),\n",
       " array([1887243.41215242]),\n",
       " array([1887823.45518898]),\n",
       " array([1888509.97960656]),\n",
       " array([1889265.37208902]),\n",
       " array([1890067.48562509]),\n",
       " array([1890901.44116947]),\n",
       " array([1891756.30405306]),\n",
       " array([1892623.39854029]),\n",
       " array([1893495.7229874]),\n",
       " array([1894367.63733073]),\n",
       " array([1895234.67116943]),\n",
       " array([1896093.11482021]),\n",
       " array([1896940.18067787]),\n",
       " array([1897773.54353581]),\n",
       " array([1898591.46966142]),\n",
       " array([1899392.677979]),\n",
       " array([1900176.17055637]),\n",
       " array([1900941.26301838]),\n",
       " array([1901687.52878239]),\n",
       " array([1902414.701145]),\n",
       " array([1903122.68048835]),\n",
       " array([1903811.49066329]),\n",
       " array([1904481.26859139]),\n",
       " array([1905132.21630296]),\n",
       " array([1905764.61709718]),\n",
       " array([1906378.79113998]),\n",
       " array([1906975.10096985]),\n",
       " array([1907553.94222865]),\n",
       " array([1907553.94222865])]"
      ]
     },
     "execution_count": 41,
     "metadata": {},
     "output_type": "execute_result"
    }
   ],
   "source": [
    "mass_l"
   ]
  },
  {
   "cell_type": "code",
   "execution_count": 20,
   "id": "a2f1a68b",
   "metadata": {},
   "outputs": [
    {
     "data": {
      "text/plain": [
       "4.8069030937600115"
      ]
     },
     "execution_count": 20,
     "metadata": {},
     "output_type": "execute_result"
    }
   ],
   "source": [
    "0.02424803020672399/0.0050444183570501145"
   ]
  },
  {
   "cell_type": "code",
   "execution_count": 117,
   "id": "29074d7a",
   "metadata": {},
   "outputs": [
    {
     "name": "stdout",
     "output_type": "stream",
     "text": [
      "0.9650841359308788\n"
     ]
    }
   ],
   "source": [
    "ai = 0.0078125\n",
    "omega_m0 = 0.3\n",
    "c_unit = 2.99\n",
    "hbar_unit = 6.582\n",
    "pc_unit = 3.086\n",
    "h = 0.67\n",
    "m_alpha = 0.175\n",
    "omega_m0 = 0.3\n",
    "ai = 0.0078125\n",
    "    \n",
    "kppa = c_unit*c_unit*hbar_unit*h*0.00001/(m_alpha*pc_unit)\n",
    "print(0.5*kppa/(ai*ai*ai*Hfunc(ai,omega_m0)))"
   ]
  },
  {
   "cell_type": "code",
   "execution_count": 26,
   "id": "095afeb1",
   "metadata": {},
   "outputs": [
    {
     "data": {
      "image/png": "[encoded data removed]",
      "text/plain": [
       "<Figure size 1500x1000 with 1 Axes>"
      ]
     },
     "metadata": {},
     "output_type": "display_data"
    }
   ],
   "source": [
    "fig = plt.figure(figsize=(15,10))\n",
    "plt.yscale(\"log\")\n",
    "plt.xlabel(\"time\")\n",
    "plt.ylabel(r\"$\\frac{Mass-Mass_{ini}}{Mass_{ini}}$\",fontsize=30)\n",
    "plt.plot(np.abs(mass_err_l2),\"b\",label = \"dt=10^(-3)\")\n",
    "plt.plot(np.abs(mass_err_l),\"r\",label = \"dt=10^(-4)\")\n",
    "plt.legend(loc=\"best\")\n",
    "fig.savefig(\"fdm_test.pdf\")"
   ]
  },
  {
   "cell_type": "code",
   "execution_count": null,
   "id": "2715daa3",
   "metadata": {},
   "outputs": [],
   "source": [
    "f = h5.File('test_psi_da1p25m4.h5', 'w')\n",
    "\n",
    "d = f.create_dataset(\"psi_frames\",data = np.array(frames))\n",
    "d = f.create_dataset(\"mass_err\",data=np.array(mass_err_l))\n",
    "d = f.create_dataset(\"compute_time\",data = comp_time)\n",
    "d = f.create_dataset(\"da\",data=(np.array(da)))\n",
    "\n",
    "\n",
    "    \n",
    "f.close()\n",
    "print(comp_time)"
   ]
  },
  {
   "cell_type": "code",
   "execution_count": 15,
   "id": "fedec21f",
   "metadata": {},
   "outputs": [],
   "source": [
    "#with open('test_data_m3.npy', 'wb') as f2:\n",
    "#    np.save(f2,np.array(frames2))"
   ]
  },
  {
   "cell_type": "code",
   "execution_count": 38,
   "id": "135f9ec4",
   "metadata": {},
   "outputs": [
    {
     "data": {
      "text/plain": [
       "dtype('complex128')"
      ]
     },
     "execution_count": 38,
     "metadata": {},
     "output_type": "execute_result"
    }
   ],
   "source": [
    "dta.dtype"
   ]
  },
  {
   "cell_type": "code",
   "execution_count": 39,
   "id": "481835b8",
   "metadata": {},
   "outputs": [
    {
     "data": {
      "text/plain": [
       "(51, 128, 128, 128)"
      ]
     },
     "execution_count": 39,
     "metadata": {},
     "output_type": "execute_result"
    }
   ],
   "source": [
    "dta.shape"
   ]
  },
  {
   "cell_type": "code",
   "execution_count": 18,
   "id": "8f74fcaa",
   "metadata": {},
   "outputs": [],
   "source": [
    "d2 = d2/10000.0"
   ]
  },
  {
   "cell_type": "code",
   "execution_count": 19,
   "id": "cafc9de3",
   "metadata": {},
   "outputs": [],
   "source": [
    "dlt = d2.flatten()/(3.0*0.3)-1.0"
   ]
  },
  {
   "cell_type": "code",
   "execution_count": 20,
   "id": "ed379a84",
   "metadata": {},
   "outputs": [
    {
     "data": {
      "text/plain": [
       "(2097152,)"
      ]
     },
     "execution_count": 20,
     "metadata": {},
     "output_type": "execute_result"
    }
   ],
   "source": [
    "dlt.shape"
   ]
  },
  {
   "cell_type": "code",
   "execution_count": 21,
   "id": "72e566d9",
   "metadata": {},
   "outputs": [
    {
     "data": {
      "text/plain": [
       "-4.3141312744410243e-10"
      ]
     },
     "execution_count": 21,
     "metadata": {},
     "output_type": "execute_result"
    }
   ],
   "source": [
    "dlt.sum()"
   ]
  },
  {
   "cell_type": "code",
   "execution_count": 22,
   "id": "1c00e6ff",
   "metadata": {},
   "outputs": [
    {
     "data": {
      "text/plain": [
       "array([[103.02049518,  -1.25228466],\n",
       "       [ 98.86225297,  -1.17613939],\n",
       "       [ 96.26808953,  -1.12063124],\n",
       "       ...,\n",
       "       [103.57740649,  -1.60874772],\n",
       "       [108.51031287,  -1.53114843],\n",
       "       [108.00033975,  -1.42282909]])"
      ]
     },
     "execution_count": 22,
     "metadata": {},
     "output_type": "execute_result"
    }
   ],
   "source": [
    "d.real"
   ]
  },
  {
   "cell_type": "code",
   "execution_count": null,
   "id": "8fb3bd22",
   "metadata": {},
   "outputs": [],
   "source": []
  }
 ],
 "metadata": {
  "kernelspec": {
   "display_name": "Python 3 (ipykernel)",
   "language": "python",
   "name": "python3"
  },
  "language_info": {
   "codemirror_mode": {
    "name": "ipython",
    "version": 3
   },
   "file_extension": ".py",
   "mimetype": "text/x-python",
   "name": "python",
   "nbconvert_exporter": "python",
   "pygments_lexer": "ipython3",
   "version": "3.10.11"
  }
 },
 "nbformat": 4,
 "nbformat_minor": 5
}
