{
 "cells": [
  {
   "cell_type": "code",
   "execution_count": 1,
   "id": "7f4f6bc5",
   "metadata": {},
   "outputs": [],
   "source": [
    "import numpy as np\n",
    "import matplotlib.pyplot as plt\n",
    "#from IPython.core.display import HTML\n",
    "#css_file = './custom.css'\n",
    "#HTML(open(css_file, \"r\").read())"
   ]
  },
  {
   "cell_type": "markdown",
   "id": "504c0075",
   "metadata": {},
   "source": [
    "Here we try to solve a made up equation which has following solution:\n",
    "    \\begin{equation}\n",
    "   \\psi =  e^{i(2\\pi t/T)}  sin\\left(2\\pi \\vec{k}.\\vec{x}\\right)\n",
    "    \\end{equation}\n",
    "\n",
    "    \n",
    "  We substitute above solution in following equation:\n",
    "    \\begin{equation}\n",
    "    \\partial_t \\psi - i\\frac{\\kappa}{2}(\\nabla^2\\psi) + iV\\psi = 0\n",
    "    \\end{equation}\n",
    "  \n",
    "  where\n",
    "  \\begin{equation}\n",
    "  \\nabla^2V = \\frac{1}{2\\kappa}(|\\psi|^2 - 1/2)\n",
    "  \\end{equation}\n",
    "  \n",
    "  and we get following modified equation for $\\psi(t,\\vec{x})$:\n",
    "    \\begin{equation}\n",
    "    \\partial_t \\psi - i\\frac{\\kappa}{2}(\\nabla^2\\psi) + iV\\psi = g(t,\\vec{x})\n",
    "    \\end{equation}  \n",
    "  with \n",
    "    \\begin{equation}\n",
    "      g(t,\\vec{x}) = i\\beta\\psi\n",
    "   \\end{equation}\n",
    "   where\n",
    "   \\begin{equation}\n",
    "       \\beta = \\frac{-2\\pi}{T} + \\frac{\\kappa}{2}(\\frac{2\\pi}{s})^2 |\\vec{k}|^2 +V\n",
    "   \\end{equation}\n",
    "  \n",
    "    \n",
    "    \n",
    "    \n",
    "    \n",
    "    "
   ]
  },
  {
   "cell_type": "code",
   "execution_count": 2,
   "id": "3047c58a",
   "metadata": {},
   "outputs": [],
   "source": [
    "from GPE import GPE_scalar_field\n",
    "from GPE import ImEx\n"
   ]
  },
  {
   "cell_type": "code",
   "execution_count": 45,
   "id": "56fe0f24",
   "metadata": {},
   "outputs": [],
   "source": [
    "#3-d Fiducial example\n",
    "\n",
    "# Higueras (17)\n",
    "A    = np.array([[0,0,0],[5/6.,0,0],[11/24,11/24,0]])\n",
    "Ahat = np.array([[2./11,0,0],[205/462.,2./11,0],[2033/4620,21/110,2/11]])\n",
    "b = np.array([24/55.,1./5,4./11])\n",
    "bhat = b\n",
    "\n",
    "imx = ImEx(3,Ahat,A,bhat,b)\n",
    "\n",
    "\n",
    "\n",
    "\n",
    "def rhs_f(u,xi2,kppa,bta):\n",
    "    \n",
    "    u2 = np.square(np.abs(u))\n",
    "    vrhsft = -np.fft.fftn(u2-0.5,u2.shape)/xi2\n",
    "    vrhsft[0,0,0] = 0.0+0.0*1j\n",
    "    v = 0.5*(np.fft.ifftn(vrhsft,vrhsft.shape))/kppa;\n",
    "    \n",
    "    \n",
    "    \n",
    "    \n",
    "    \n",
    "    return (1j*(bta-v)*u)\n",
    "\n",
    "def im_rhs(psi_ft,xi2,kppa,bta):\n",
    "   \n",
    "    psi_ft = -psi_ft*(xi2)\n",
    "    return(1j*0.5*kppa*np.fft.ifftn(psi_ft,psi_ft.shape))\n",
    "\n",
    "\n",
    "\n",
    "def calc_max_eig(u,xi2,kppa,bta):\n",
    "    \n",
    "    u2 = np.square(np.abs(u))\n",
    "    \n",
    "    vrhsft = -np.fft.fftn(u2-0.5,u2.shape)/xi2\n",
    "    vrhsft[0,0,0] = 0.0+0.0*1j\n",
    "    v = 0.5*(np.fft.ifftn(vrhsft,vrhsft.shape))/kppa;\n",
    "    \n",
    "    rhs = np.max(np.abs(bta-v))\n",
    "    \n",
    "    \n",
    "    \n",
    "    return (rhs)\n",
    "\n",
    "def sol_err(psi,t,nx,T,max_err=-1.0):\n",
    "\n",
    "    sol = np.exp(-1j*(2.0*t*np.pi/T))*np.sin(2.0*np.pi*nx)\n",
    "    #print(\"sol shape\",sol.shape,\"psi.shape\",psi.shape)\n",
    "    err = np.square(np.abs(sol-psi).flatten()).sum()\n",
    "    err = err/(np.square(np.abs(sol).flatten()).sum())\n",
    "    if(err>max_err):\n",
    "        max_err = err\n",
    "    return(max_err)\n",
    "\n",
    "\n",
    "def solve_3d_example(m,dt):\n",
    "    L = 2.0\n",
    "    \n",
    "    x = np.arange(-m/2,m/2)*(L/m)\n",
    "    xv,yv,zv = np.meshgrid(x,x,x)\n",
    "    xi = np.fft.fftfreq(m)*m*2*np.pi/L\n",
    "    xix,xiy,xiz = np.meshgrid(xi,xi,xi)\n",
    "    kppa = 0.0007\n",
    "    pm = 0.1\n",
    "    pn = 2.0/L\n",
    "   \n",
    "    nx = pn*xv+pn*yv+pn*zv\n",
    "    k2 = 3.0*(pn**2)\n",
    "    \n",
    "    #nx = np.dot(pnv,xv)\n",
    "    print(\"nx shape\",nx.shape,\"x shape\",x.shape)\n",
    "    \n",
    "    T = 2.0*np.pi/pm\n",
    "    \n",
    "    \n",
    "    u = np.exp(-1j*0.0)*np.sin(2.0*np.pi*nx)\n",
    "    \n",
    "    chk_err = sol_err(u,0.0,nx,T,-1.0)\n",
    "    print(\"chk err \",chk_err)\n",
    "   \n",
    "    print(type(u),u.shape,u.dtype)\n",
    "    tmax = 2.0\n",
    "\n",
    "    \n",
    "\n",
    "    num_plots = 50\n",
    "    nplt = np.floor((tmax/num_plots)/dt)\n",
    "    nmax = int(round(tmax/dt))\n",
    "    #print(nplt,\"nmax\",nmax)\n",
    "\n",
    "    frames = [u.copy()]\n",
    "    tt = [0]\n",
    "    err_l = []\n",
    "    mass_l = []\n",
    "    mass_err_l=[]\n",
    "    \n",
    "\n",
    "    \n",
    "    \n",
    "    psi = GPE_scalar_field(3,m,im_rhs,rhs_f,imx,u)\n",
    "    xi2 = (xix*xix+xiy*xiy+xiz*xiz)\n",
    "    lmbda = (0.5*kppa*xi2)\n",
    "    \n",
    "    u2 = np.square(np.abs(u))\n",
    "    vrhsft = -np.fft.fftn(u2-0.5,u2.shape)/xi2\n",
    "    vrhsft[0,0,0] = 0.0+0.0*1j\n",
    "    vini = 0.5*(np.fft.ifftn(vrhsft,vrhsft.shape))/kppa;\n",
    "    \n",
    "    bta = (-2.0*np.pi/T)+0.5*kppa*2.0*np.pi*2.0*np.pi*k2+vini\n",
    "    \n",
    "    print(\"beta shape\",bta.shape)\n",
    "    \n",
    "    max_err = -1.0\n",
    "    \n",
    "        \n",
    "    for n in range(0,nmax):\n",
    "        \n",
    "        #print(n)\n",
    "        for k in range(imx.s):\n",
    "            psi.update_stage_sum(k,dt)\n",
    "            psi.do_fft(k,lmbda,dt)\n",
    "            psi.update_K(k,xi2,kppa,bta)\n",
    "            \n",
    "        psi.sum_contributions(dt)\n",
    "        \n",
    "        \n",
    "        t = (n+1)*dt\n",
    "        \n",
    "#        max_egn = calc_max_eig(u,xi2,kppa,bta)\n",
    "#        if((max_egn*dt)>imx.r_of_stb.imag):\n",
    "#            print(\"maxeg*dt\",max_egn*dt,imx.r_of_stb.imag)\n",
    "#            dt  = 0.9*(imx.r_of_stb.imag/max_egn)\n",
    "        \n",
    "        \n",
    "        \n",
    "        if np.mod(n,nplt) == 0:\n",
    "            frames.append(psi.psi)\n",
    "            tt.append(t)\n",
    "            err = sol_err(psi.psi,t,nx,T,max_err)\n",
    "            err_l.append(err)\n",
    "            \n",
    "            mass = psi.calc_mass()\n",
    "            mass_err = (mass-psi.mass_ini)/psi.mass_ini\n",
    "            \n",
    "            mass_l.append(mass)\n",
    "            mass_err_l.append(mass_err)\n",
    "            \n",
    "\n",
    "\n",
    "    err =  sol_err(psi.psi,t,nx,T,max_err)\n",
    "    err_l.append(err)\n",
    "            \n",
    "    mass = psi.calc_mass()\n",
    "    mass_err = (mass-psi.mass_ini)/psi.mass_ini\n",
    "            \n",
    "    mass_l.append(mass)\n",
    "    mass_err_l.append(mass_err)\n",
    "       \n",
    "    return frames, x,err_l,mass_l,mass_err_l"
   ]
  },
  {
   "cell_type": "code",
   "execution_count": 46,
   "id": "b21ef8fb",
   "metadata": {},
   "outputs": [
    {
     "name": "stdout",
     "output_type": "stream",
     "text": [
      "nx shape (64, 64, 64) x shape (64,)\n",
      "chk err  0.0\n",
      "<class 'numpy.ndarray'> (64, 64, 64) complex128\n",
      "class shapes (64, 64, 64) (3, 64, 64, 64)\n",
      "(64, 64, 64) (64, 64, 64)\n",
      "beta shape (64, 64, 64)\n"
     ]
    },
    {
     "name": "stderr",
     "output_type": "stream",
     "text": [
      "/var/folders/ll/kxnszbbj3b1bqwnlk_bqpjl8ffbpq7/T/ipykernel_18050/1765058947.py:108: RuntimeWarning: divide by zero encountered in divide\n",
      "  vrhsft = -np.fft.fftn(u2-0.5,u2.shape)/xi2\n",
      "/var/folders/ll/kxnszbbj3b1bqwnlk_bqpjl8ffbpq7/T/ipykernel_18050/1765058947.py:108: RuntimeWarning: invalid value encountered in divide\n",
      "  vrhsft = -np.fft.fftn(u2-0.5,u2.shape)/xi2\n",
      "/var/folders/ll/kxnszbbj3b1bqwnlk_bqpjl8ffbpq7/T/ipykernel_18050/1765058947.py:17: RuntimeWarning: divide by zero encountered in divide\n",
      "  vrhsft = -np.fft.fftn(u2-0.5,u2.shape)/xi2\n",
      "/var/folders/ll/kxnszbbj3b1bqwnlk_bqpjl8ffbpq7/T/ipykernel_18050/1765058947.py:17: RuntimeWarning: invalid value encountered in divide\n",
      "  vrhsft = -np.fft.fftn(u2-0.5,u2.shape)/xi2\n"
     ]
    }
   ],
   "source": [
    "\n",
    "dt = 0.001\n",
    "\n",
    "\n",
    "frames, x, err_l, mass_l,mass_err_l = solve_3d_example(64,dt)"
   ]
  },
  {
   "cell_type": "code",
   "execution_count": 47,
   "id": "29074d7a",
   "metadata": {},
   "outputs": [
    {
     "data": {
      "text/plain": [
       "[<matplotlib.lines.Line2D at 0x11cd2a140>]"
      ]
     },
     "execution_count": 47,
     "metadata": {},
     "output_type": "execute_result"
    },
    {
     "data": {
      "image/png": "[encoded data removed]",
      "text/plain": [
       "<Figure size 640x480 with 1 Axes>"
      ]
     },
     "metadata": {},
     "output_type": "display_data"
    }
   ],
   "source": [
    "plt.plot(err_l)"
   ]
  },
  {
   "cell_type": "code",
   "execution_count": 48,
   "id": "095afeb1",
   "metadata": {},
   "outputs": [
    {
     "data": {
      "text/plain": [
       "[<matplotlib.lines.Line2D at 0x11cb5e260>]"
      ]
     },
     "execution_count": 48,
     "metadata": {},
     "output_type": "execute_result"
    },
    {
     "data": {
      "image/png": "[encoded data removed]",
      "text/plain": [
       "<Figure size 640x480 with 1 Axes>"
      ]
     },
     "metadata": {},
     "output_type": "display_data"
    }
   ],
   "source": [
    "plt.plot(mass_l)"
   ]
  }
 ],
 "metadata": {
  "kernelspec": {
   "display_name": "Python 3 (ipykernel)",
   "language": "python",
   "name": "python3"
  },
  "language_info": {
   "codemirror_mode": {
    "name": "ipython",
    "version": 3
   },
   "file_extension": ".py",
   "mimetype": "text/x-python",
   "name": "python",
   "nbconvert_exporter": "python",
   "pygments_lexer": "ipython3",
   "version": "3.10.11"
  }
 },
 "nbformat": 4,
 "nbformat_minor": 5
}
