{
 "cells": [
  {
   "cell_type": "code",
   "execution_count": 1,
   "id": "7f4f6bc5",
   "metadata": {},
   "outputs": [],
   "source": [
    "import numpy as np\n",
    "import matplotlib.pyplot as plt\n",
    "#from IPython.core.display import HTML\n",
    "#css_file = './custom.css'\n",
    "#HTML(open(css_file, \"r\").read())"
   ]
  },
  {
   "cell_type": "markdown",
   "id": "504c0075",
   "metadata": {},
   "source": [
    "Here we attempt solve following equation:\n",
    "\n",
    "\\begin{equation}\n",
    "\\partial_a\\psi = i\\kappa\\frac{\\nabla^2\\psi}{a^3 \\mathcal{H}}-i\\frac{V\\psi}{a^2\\mathcal{H}}\n",
    "\\end{equation}\n",
    "  \n",
    "  where\n",
    "  \\begin{equation}\n",
    "  \\nabla^2V = \\frac{1}{2\\kappa}\\left(|\\psi|^2 -<|\\psi|^2> \\right)\n",
    "  \\end{equation}\n",
    "with\n",
    "\\begin{equation}\n",
    "\n",
    "\\end{equation}\n",
    "\n",
    "    \n",
    "    \n",
    "    \n",
    "    \n",
    "    "
   ]
  },
  {
   "cell_type": "code",
   "execution_count": 2,
   "id": "3047c58a",
   "metadata": {},
   "outputs": [],
   "source": [
    "from GPE import GPE_scalar_field\n",
    "from GPE import ImEx\n"
   ]
  },
  {
   "cell_type": "code",
   "execution_count": 9,
   "id": "56fe0f24",
   "metadata": {},
   "outputs": [],
   "source": [
    "#3-d Fiducial example\n",
    "\n",
    "# Higueras (17)\n",
    "A    = np.array([[0,0,0],[5/6.,0,0],[11/24,11/24,0]])\n",
    "Ahat = np.array([[2./11,0,0],[205/462.,2./11,0],[2033/4620,21/110,2/11]])\n",
    "b = np.array([24/55.,1./5,4./11])\n",
    "bhat = b\n",
    "\n",
    "imC = np.array([2.0/11,289.0/462.0,751.0/924.0])\n",
    "\n",
    "exC= np.array([0.0,5.0/6.0,11.0/12.0])\n",
    "\n",
    "\n",
    "imx = ImEx(3,Ahat,A,bhat,b,imC,exC)\n",
    "imx.cal_reg_of_stab()\n",
    "\n",
    "\n",
    "def Hfunc(a,omega_m0,a0=1.0):\n",
    "    return( np.sqrt(omega_m0*(a0/a)*(a0/a)*(a0/a) + (1.0 - omega_m0))    )\n",
    "\n",
    "\n",
    "def rhs_f(u,xi2,kppa,a,da,s,omega_m0):\n",
    "    \n",
    "    u2 = np.square(np.abs(u))\n",
    "    vrhs = 0.5*(u2-np.mean(u2))/kppa\n",
    "    vrhsft = -np.fft.fftn(vrhs,vrhs.shape)/xi2\n",
    "    vrhsft[0,0,0] = 0.0+0.0*1j\n",
    "    v = (np.fft.ifftn(vrhsft,vrhsft.shape));\n",
    "    \n",
    "    \n",
    "    ak = a+imx.im_C[s]*da\n",
    "    H = Hfunc(ak,omega_m0)\n",
    "    \n",
    "    \n",
    "    return (-1j*v*u/(ak*ak*H))\n",
    "\n",
    "def im_rhs(psi_ft,xi2,kppa,a,da,s,omega_m0):\n",
    "   \n",
    "    psi_ft = -psi_ft*(xi2)\n",
    "    ak = a+imx.ex_C[s]*da\n",
    "    H = Hfunc(ak,omega_m0)\n",
    "    return(1j*0.5*kppa*np.fft.ifftn(psi_ft,psi_ft.shape)/(ak*ak*ak*H))\n",
    "\n",
    "    #return(0.0)\n",
    "\n",
    "def calc_max_eig(u,xi2,kppa,a,omega_m0):\n",
    "    \n",
    "    u2 = np.square(np.abs(u))\n",
    "    vrhs = 0.5*(u2-np.mean(u2))/kppa\n",
    "    vrhsft = -np.fft.fftn(vrhs,vrhs.shape)/xi2\n",
    "    vrhsft[0,0,0] = 0.0+0.0*1j\n",
    "    v = (np.fft.ifftn(vrhsft,vrhsft.shape));\n",
    "    H= Hfunc(a,omega_m0)\n",
    "    mx = np.max(np.abs(v.real)/(a*a*H))\n",
    "    \n",
    "    return (mx)\n",
    "\n",
    "def sol_err(psi,t,nx,T,max_err=-1.0):\n",
    "\n",
    "    sol = np.exp(-1j*(2.0*t*np.pi/T))*np.sin(2.0*np.pi*nx)\n",
    "    #print(\"sol shape\",sol.shape,\"psi.shape\",psi.shape)\n",
    "    err = np.square(np.abs(sol-psi).flatten()).sum()\n",
    "    err = err/(np.square(np.abs(sol).flatten()).sum())\n",
    "    if(err>max_err):\n",
    "        max_err = err\n",
    "    return(max_err)\n",
    "\n",
    "\n",
    "\n",
    "def solve_fdm_example(N,da):\n",
    "    L = 1.0\n",
    "    \n",
    "    x = np.arange(-N/2,N/2)*(L/N)\n",
    "    xv,yv,zv = np.meshgrid(x,x,x)\n",
    "    xi = np.fft.fftfreq(N)*N*2*np.pi/L\n",
    "    xix,xiy,xiz = np.meshgrid(xi,xi,xi)\n",
    "    \n",
    "    c_unit = 2.99\n",
    "    hbar_unit = 6.582\n",
    "    pc_unit = 3.086\n",
    "    h = 0.67\n",
    "    m_alpha = 0.175\n",
    "    omega_m0 = 0.3\n",
    "    ai = 0.0078125\n",
    "    \n",
    "    kppa = c_unit*c_unit*hbar_unit*h*0.00001/(m_alpha*pc_unit)\n",
    "    \n",
    "   \n",
    "   \n",
    "    \n",
    "   \n",
    "    \n",
    "   \n",
    "    psl = np.reshape(np.genfromtxt(\"test_initial1.txt\",usecols=(4,5)),(N,N,N,2))\n",
    "    psi_ini = (psl[:,:,:,0]/100.0)+1j*(psl[:,:,:,1]/100.0)\n",
    "    print(psi_ini.shape)\n",
    "    \n",
    "    \n",
    "\n",
    "   \n",
    "    print(type(psi_ini),psi_ini.shape,psi_ini.dtype)\n",
    "    amax = 1.0\n",
    "\n",
    "    \n",
    "\n",
    "    num_plots = 50\n",
    "    nplt = np.floor((amax/num_plots)/da)\n",
    "    nmax = int(round(amax/da))\n",
    "    print(nplt,\"nmax\",nmax)\n",
    "\n",
    "    frames = [psi_ini.copy()]\n",
    "    aa = [0]\n",
    "    err_l = []\n",
    "    mass_l = []\n",
    "    mass_err_l=[]\n",
    "    \n",
    "\n",
    "    \n",
    "    \n",
    "    psi = GPE_scalar_field(3,N,im_rhs,rhs_f,imx,psi_ini)\n",
    "    xi2 = (xix*xix+xiy*xiy+xiz*xiz)\n",
    "    lmbda_s = (0.5*kppa*xi2)\n",
    "    \n",
    "    u2 = np.square(np.abs(psi_ini))\n",
    "    vrhs = 0.5*(u2-np.mean(u2))/kppa\n",
    "    dlt = (u2-np.mean(u2))/(3.0*omega_m0)\n",
    "    vrhsft = -np.fft.fftn(vrhs,vrhs.shape)/xi2\n",
    "    vrhsft[0,0,0] = 0.0+0.0*1j\n",
    "    v = (np.fft.ifftn(vrhsft,vrhsft.shape))/(ai*ai*Hfunc(ai,omega_m0));\n",
    "    \n",
    "    max_err = -1.0\n",
    "    a = ai\n",
    "        \n",
    "    for n in range(nmax):\n",
    "        \n",
    "        #print(n)\n",
    "        for k in range(imx.s):\n",
    "            ak = a+imx.im_C[k]*da\n",
    "            Hk = Hfunc(ak,omega_m0)\n",
    "            lmbda = lmbda_s/(ak*ak*ak*Hk)\n",
    "            \n",
    "            psi.update_stage_sum(k,da)\n",
    "            psi.do_fft(k,lmbda,da)\n",
    "            psi.update_K(k,xi2,kppa,a,da,k,omega_m0)\n",
    "            \n",
    "            #max_egn = calc_max_eig(psi.psi,xi2,kppa,a,omega_m0)\n",
    "            #print(\"maxeg*dt @ n\",max_egn*da,n,k,imx.r_of_stb.imag)\n",
    "        psi_tmp = psi.psi*1.0   \n",
    "        psi.sum_contributions(da)\n",
    "        \n",
    "        \n",
    "        a = ai+(n+1)*da\n",
    "        \n",
    "        max_egn = calc_max_eig(psi.psi,xi2,kppa,a,omega_m0)\n",
    "        if((max_egn*da)>imx.r_of_stb.imag):\n",
    "            print(\"maxeg*dt @ n\",max_egn*da,n,k,imx.r_of_stb.imag)\n",
    "            da  = 0.9*(imx.r_of_stb.imag/max_egn)\n",
    "        \n",
    "        \n",
    "        \n",
    "        if np.mod(n,nplt) == 0:\n",
    "            frames.append(psi.psi)\n",
    "            aa.append(a)\n",
    "           # err = sol_err(psi.psi,t,nx,T,max_err)\n",
    "          #  err_l.append(err)\n",
    "            \n",
    "            mass = psi.calc_mass()\n",
    "            mass_err = (mass-psi.mass_ini)/psi.mass_ini\n",
    "            \n",
    "            mass_l.append(mass)\n",
    "            mass_err_l.append(mass_err)\n",
    "            print(a,da)\n",
    "            \n",
    "\n",
    "\n",
    "   # err =  sol_err(psi.psi,t,nx,T,max_err)\n",
    "  #  err_l.append(err)\n",
    "            \n",
    "    mass = psi.calc_mass()\n",
    "    mass_err = (mass-psi.mass_ini)/psi.mass_ini\n",
    "            \n",
    "    mass_l.append(mass)\n",
    "    mass_err_l.append(mass_err)\n",
    "       \n",
    "    return frames, psi_tmp,psi.psi,v"
   ]
  },
  {
   "cell_type": "code",
   "execution_count": null,
   "id": "b21ef8fb",
   "metadata": {},
   "outputs": [
    {
     "name": "stdout",
     "output_type": "stream",
     "text": [
      "(128, 128, 128)\n",
      "<class 'numpy.ndarray'> (128, 128, 128) complex128\n",
      "20.0 nmax 1000\n",
      "class shapes (128, 128, 128) (3, 128, 128, 128)\n",
      "(128, 128, 128) (128, 128, 128)\n"
     ]
    },
    {
     "name": "stderr",
     "output_type": "stream",
     "text": [
      "/var/folders/ll/kxnszbbj3b1bqwnlk_bqpjl8ffbpq7/T/ipykernel_26230/4027202720.py:127: RuntimeWarning: divide by zero encountered in divide\n",
      "  vrhsft = -np.fft.fftn(vrhs,vrhs.shape)/xi2\n",
      "/var/folders/ll/kxnszbbj3b1bqwnlk_bqpjl8ffbpq7/T/ipykernel_26230/4027202720.py:127: RuntimeWarning: invalid value encountered in divide\n",
      "  vrhsft = -np.fft.fftn(vrhs,vrhs.shape)/xi2\n",
      "/var/folders/ll/kxnszbbj3b1bqwnlk_bqpjl8ffbpq7/T/ipykernel_26230/4027202720.py:26: RuntimeWarning: divide by zero encountered in divide\n",
      "  vrhsft = -np.fft.fftn(vrhs,vrhs.shape)/xi2\n",
      "/var/folders/ll/kxnszbbj3b1bqwnlk_bqpjl8ffbpq7/T/ipykernel_26230/4027202720.py:26: RuntimeWarning: invalid value encountered in divide\n",
      "  vrhsft = -np.fft.fftn(vrhs,vrhs.shape)/xi2\n",
      "/var/folders/ll/kxnszbbj3b1bqwnlk_bqpjl8ffbpq7/T/ipykernel_26230/4027202720.py:50: RuntimeWarning: divide by zero encountered in divide\n",
      "  vrhsft = -np.fft.fftn(vrhs,vrhs.shape)/xi2\n",
      "/var/folders/ll/kxnszbbj3b1bqwnlk_bqpjl8ffbpq7/T/ipykernel_26230/4027202720.py:50: RuntimeWarning: invalid value encountered in divide\n",
      "  vrhsft = -np.fft.fftn(vrhs,vrhs.shape)/xi2\n"
     ]
    },
    {
     "name": "stdout",
     "output_type": "stream",
     "text": [
      "0.008812500000000001 0.001\n",
      "0.0288125 0.001\n",
      "0.0488125 0.001\n",
      "0.0688125 0.001\n",
      "0.0888125 0.001\n"
     ]
    }
   ],
   "source": [
    "\n",
    "da = 0.001\n",
    "\n",
    "\n",
    "frames,  psip,psic,v = solve_fdm_example(128,da)"
   ]
  },
  {
   "cell_type": "code",
   "execution_count": 117,
   "id": "29074d7a",
   "metadata": {},
   "outputs": [
    {
     "name": "stdout",
     "output_type": "stream",
     "text": [
      "0.9650841359308788\n"
     ]
    }
   ],
   "source": [
    "ai = 0.0078125\n",
    "omega_m0 = 0.3\n",
    "c_unit = 2.99\n",
    "hbar_unit = 6.582\n",
    "pc_unit = 3.086\n",
    "h = 0.67\n",
    "m_alpha = 0.175\n",
    "omega_m0 = 0.3\n",
    "ai = 0.0078125\n",
    "    \n",
    "kppa = c_unit*c_unit*hbar_unit*h*0.00001/(m_alpha*pc_unit)\n",
    "print(0.5*kppa/(ai*ai*ai*Hfunc(ai,omega_m0)))"
   ]
  },
  {
   "cell_type": "code",
   "execution_count": 106,
   "id": "095afeb1",
   "metadata": {},
   "outputs": [],
   "source": [
    "psi"
   ]
  },
  {
   "cell_type": "code",
   "execution_count": 114,
   "id": "7ec56c25",
   "metadata": {},
   "outputs": [
    {
     "data": {
      "text/plain": [
       "[<matplotlib.lines.Line2D at 0x2d4026260>]"
      ]
     },
     "execution_count": 114,
     "metadata": {},
     "output_type": "execute_result"
    },
    {
     "data": {
      "image/png": "[encoded data removed]",
      "text/plain": [
       "<Figure size 640x480 with 1 Axes>"
      ]
     },
     "metadata": {},
     "output_type": "display_data"
    }
   ],
   "source": [
    "plt.plot(psip.flatten().real)\n"
   ]
  },
  {
   "cell_type": "code",
   "execution_count": 115,
   "id": "9cf3dc76",
   "metadata": {},
   "outputs": [
    {
     "data": {
      "text/plain": [
       "[<matplotlib.lines.Line2D at 0x2f0e76b90>]"
      ]
     },
     "execution_count": 115,
     "metadata": {},
     "output_type": "execute_result"
    },
    {
     "data": {
      "image/png": "[encoded data removed]",
      "text/plain": [
       "<Figure size 640x480 with 1 Axes>"
      ]
     },
     "metadata": {},
     "output_type": "display_data"
    }
   ],
   "source": [
    "plt.plot(psic.flatten().real)"
   ]
  },
  {
   "cell_type": "code",
   "execution_count": 17,
   "id": "5071af52",
   "metadata": {},
   "outputs": [
    {
     "name": "stdout",
     "output_type": "stream",
     "text": [
      "(128, 128, 128)\n"
     ]
    }
   ],
   "source": [
    "d2 = np.square(np.abs(psi_ini))\n",
    "print(d2.shape)"
   ]
  },
  {
   "cell_type": "code",
   "execution_count": 18,
   "id": "6f488e8c",
   "metadata": {},
   "outputs": [],
   "source": [
    "d2 = d2/10000.0"
   ]
  },
  {
   "cell_type": "code",
   "execution_count": 19,
   "id": "6c057728",
   "metadata": {},
   "outputs": [],
   "source": [
    "dlt = d2.flatten()/(3.0*0.3)-1.0"
   ]
  },
  {
   "cell_type": "code",
   "execution_count": 20,
   "id": "23968f59",
   "metadata": {},
   "outputs": [
    {
     "data": {
      "text/plain": [
       "(2097152,)"
      ]
     },
     "execution_count": 20,
     "metadata": {},
     "output_type": "execute_result"
    }
   ],
   "source": [
    "dlt.shape"
   ]
  },
  {
   "cell_type": "code",
   "execution_count": 21,
   "id": "6a6906b1",
   "metadata": {},
   "outputs": [
    {
     "data": {
      "text/plain": [
       "-4.3141312744410243e-10"
      ]
     },
     "execution_count": 21,
     "metadata": {},
     "output_type": "execute_result"
    }
   ],
   "source": [
    "dlt.sum()"
   ]
  },
  {
   "cell_type": "code",
   "execution_count": 22,
   "id": "fa6e201a",
   "metadata": {},
   "outputs": [
    {
     "data": {
      "text/plain": [
       "array([[103.02049518,  -1.25228466],\n",
       "       [ 98.86225297,  -1.17613939],\n",
       "       [ 96.26808953,  -1.12063124],\n",
       "       ...,\n",
       "       [103.57740649,  -1.60874772],\n",
       "       [108.51031287,  -1.53114843],\n",
       "       [108.00033975,  -1.42282909]])"
      ]
     },
     "execution_count": 22,
     "metadata": {},
     "output_type": "execute_result"
    }
   ],
   "source": [
    "d.real"
   ]
  },
  {
   "cell_type": "code",
   "execution_count": null,
   "id": "98bf9251",
   "metadata": {},
   "outputs": [],
   "source": []
  }
 ],
 "metadata": {
  "kernelspec": {
   "display_name": "Python 3 (ipykernel)",
   "language": "python",
   "name": "python3"
  },
  "language_info": {
   "codemirror_mode": {
    "name": "ipython",
    "version": 3
   },
   "file_extension": ".py",
   "mimetype": "text/x-python",
   "name": "python",
   "nbconvert_exporter": "python",
   "pygments_lexer": "ipython3",
   "version": "3.10.11"
  }
 },
 "nbformat": 4,
 "nbformat_minor": 5
}
