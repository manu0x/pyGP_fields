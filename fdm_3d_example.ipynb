{
 "cells": [
  {
   "cell_type": "code",
   "execution_count": 1,
   "id": "7f4f6bc5",
   "metadata": {},
   "outputs": [],
   "source": [
    "import numpy as np\n",
    "import matplotlib.pyplot as plt\n",
    "import h5py as h5\n",
    "#from IPython.core.display import HTML\n",
    "#css_file = './custom.css'\n",
    "#HTML(open(css_file, \"r\").read())"
   ]
  },
  {
   "cell_type": "markdown",
   "id": "504c0075",
   "metadata": {},
   "source": [
    "Here we attempt solve following equation:\n",
    "\n",
    "\\begin{equation}\n",
    "\\partial_a\\psi = i\\kappa\\frac{\\nabla^2\\psi}{a^3 \\mathcal{H}}-i\\frac{V\\psi}{a^2\\mathcal{H}}\n",
    "\\end{equation}\n",
    "  \n",
    "  where\n",
    "  \\begin{equation}\n",
    "  \\nabla^2V = \\frac{1}{2\\kappa}\\left(|\\psi|^2 -<|\\psi|^2> \\right)\n",
    "  \\end{equation}\n",
    "with\n",
    "\\begin{equation}\n",
    "\\mathcal{H} = \\sqrt{\\Omega a^{-3} + (1-\\Omega)}\n",
    "\\end{equation}\n",
    "\n",
    "$a$ is scale-factor of the Universe and is monotonically increasing with physical time and is used in this code as \n",
    "time variable.\n",
    "    \n",
    "    \n",
    "    \n",
    "    \n",
    "    "
   ]
  },
  {
   "cell_type": "code",
   "execution_count": 2,
   "id": "3047c58a",
   "metadata": {},
   "outputs": [],
   "source": [
    "from GPE import GPE_scalar_field\n",
    "from GPE import ImEx\n",
    "import time"
   ]
  },
  {
   "cell_type": "code",
   "execution_count": 3,
   "id": "56fe0f24",
   "metadata": {},
   "outputs": [],
   "source": [
    "#3-d \n",
    "'''\n",
    "# Higueras (17)\n",
    "A    = np.array([[0,0,0],[5/6.,0,0],[11/24,11/24,0]])\n",
    "Ahat = np.array([[2./11,0,0],[205/462.,2./11,0],[2033/4620,21/110,2/11]])\n",
    "b = np.array([24/55.,1./5,4./11])\n",
    "bhat = b\n",
    "\n",
    "imC = np.array([2.0/11,289.0/462.0,751.0/924.0])\n",
    "\n",
    "exC= np.array([0.0,5.0/6.0,11.0/12.0])\n",
    "imx = ImEx(3,Ahat,A,bhat,b,imC,exC)\n",
    "'''\n",
    "########################### scheme_Car4_3_6L_2_SA   #####################################\n",
    "\n",
    "imA = np.array([[0.0,0.0,0.0,0.0,0.0,0.0],\n",
    "[0.25,0.25,0.0,0.0,0.0,0.0],\n",
    "[8611.0/62500.0,-1743.0/31250,0.25,0.0,0.0,0.0],\n",
    "[5012029.0/34652500.0,-654441.0/2922500.0,174375.0/388108.0,0.25,0.0,0.0],\n",
    "[15267082809.0/155376265600.0,-71443401.0/120774400.0, 730878875.0/902184768.0, 2285395.0/8070912.0,0.25,0.0],\n",
    "[82889.0/524892.0, 0.0, 15625.0/83664.0, 69875.0/102672.0, -2260.0/8211.0, 0.25]])\n",
    "\n",
    "exA = np.array([[0.0,0.0,0.0,0.0,0.0,0.0],\n",
    "[0.5,0.0,0.0,0.0,0.0,0.0],\n",
    "[13861.0/62500,  6889.0/62500.0,0.0,0.0,0.0,0.0],\n",
    "[-116923316275.0/2393684061468.0, -2731218467317.0/15368042101831.0, 9408046702089.0/11113171139209.0, 0.0,0.0,0.0],\n",
    "[-451086348788.0/2902428689909.0, -2682348792572.0/7519795681897.0, 12662868775082.0/11960479115383.0,3355817975965.0/11060851509271.0,0.0,0.0],\n",
    "[647845179188.0/3216320057751.0,73281519250.0/8382639484533.0, 552539513391.0/3454668386233.0, 3354512671639.0/8306763924573.0,4040.0/17871.0,0.0]])\n",
    "\n",
    "imb = np.array([82889.0/524892.0, 0.0, 15625.0/83664.0, 69875.0/102672.0,-2260.0/8211.0,0.25])\n",
    "exb = np.array([82889.0/524892.0, 0.0, 15625.0/83664.0, 69875.0/102672.0,-2260.0/8211.0,0.25])\n",
    "\n",
    "imC = np.array([0.0,0.5,83.0/250.0,31.0/50.0, 17.0/20.0,1.0])\n",
    "exC = np.array([0.0,0.5,83.0/250.0,31.0/50.0, 17.0/20.0,1.0])\n",
    "\n",
    "\n",
    "imx = ImEx(6,imA,exA,imb,exb,imC,exC)\n",
    "\n",
    "imx.cal_reg_of_stab()\n",
    "\n",
    "def load_psi_hdf5(file_name,n,use_zeldo=1):\n",
    "    f = h5.File(file_name,\"r\")\n",
    "    keys = list(f.keys())\n",
    "    if use_zeldo:\n",
    "        psi = f[\"psi_zeldo\"]\n",
    "    else:\n",
    "        psi = f[\"psi\"]\n",
    "        \n",
    "    psi = psi[:,0]+1j*psi[:,1]\n",
    "    psi = np.reshape(psi,(n,n,n))\n",
    "        \n",
    "    print(\"Psi shape\",psi.shape,psi.dtype)\n",
    "    \n",
    "    return psi\n",
    "\n",
    "\n",
    "def Hfunc(a,omega_m0,a0=1.0):\n",
    "    return( np.sqrt(omega_m0*(a0/a)*(a0/a)*(a0/a) + (1.0 - omega_m0))    )\n",
    "\n",
    "\n",
    "def rhs_f(u,xi2,kppa,a,da,s,omega_m0):\n",
    "    \n",
    "    u2 = np.square(np.abs(u))\n",
    "    vrhs = 1.5*omega_m0*(u2/np.mean(u2) -1.0)/kppa\n",
    "    vrhsft = -np.fft.fftn(vrhs,vrhs.shape)/xi2\n",
    "    vrhsft[0,0,0] = 0.0+0.0*1j\n",
    "    v = (np.fft.ifftn(vrhsft,vrhsft.shape));\n",
    "    \n",
    "    \n",
    "    ak = a+imx.ex_C[s]*da\n",
    "    H = Hfunc(ak,omega_m0)\n",
    "    \n",
    "    \n",
    "    return (-1j*v*u/(ak*ak*H))\n",
    "\n",
    "def im_rhs(psi_ft,xi2,kppa,a,da,s,omega_m0):\n",
    "   \n",
    "    psi_ft = -psi_ft*(xi2)\n",
    "    ak = a+imx.im_C[s]*da\n",
    "    H = Hfunc(ak,omega_m0)\n",
    "    return(1j*0.5*kppa*np.fft.ifftn(psi_ft,psi_ft.shape)/(ak*ak*ak*H))\n",
    "\n",
    "    #return(0.0)\n",
    "\n",
    "def calc_max_eig(u,xi2,kppa,a,omega_m0):\n",
    "    \n",
    "    u2 = np.square(np.abs(u))\n",
    "    vrhs = 0.5*(u2-np.mean(u2))/kppa\n",
    "    vrhsft = -np.fft.fftn(vrhs,vrhs.shape)/xi2\n",
    "    vrhsft[0,0,0] = 0.0+0.0*1j\n",
    "    v = (np.fft.ifftn(vrhsft,vrhsft.shape));\n",
    "    H= Hfunc(a,omega_m0)\n",
    "    mx = np.max(np.abs(v.real)/(a*a*H))\n",
    "    \n",
    "    return (mx)\n",
    "\n",
    "\n",
    "\n",
    "\n",
    "      \n",
    "class energy_constraint:\n",
    "    def __init__(self):\n",
    "        \n",
    "        self.E=np.zeros([3])\n",
    "        self.W=np.zeros([3])\n",
    "        self.K=np.zeros([3])\n",
    "        \n",
    "        self.E_exp = 0.0\n",
    "        self.E_ini = 0.0\n",
    "        \n",
    "        \n",
    "    def calc_energy(self,u,xi3,xi2,kppa,a,da,n_cntr):\n",
    "        ft_psi = np.fft.fftn(u,u.shape)\n",
    "        ft_psi = 1j*xi3*ft_psi\n",
    "\n",
    "        psi_x = np.fft.ifftn(ft_psi,ft_psi.shape[1:],axes=(1,2,3))\n",
    "        psi_x = np.square(np.abs(psi_x)).sum(axis=0)\n",
    "\n",
    "        Kv = 0.5*kppa*psi_x.sum()/(a*a)\n",
    "     \n",
    "    \n",
    "        u2 = np.square(np.abs(u))\n",
    "        vrhs = 0.5*(u2-np.mean(u2))/kppa\n",
    "        vrhsft = -np.fft.fftn(vrhs,vrhs.shape)/xi2\n",
    "        vrhsft[0,0,0] = 0.0+0.0*1j\n",
    "        v = (np.fft.ifftn(vrhsft,vrhsft.shape)).real;\n",
    "    \n",
    "        Wv = 0.5*np.sum(v*u2)/a\n",
    "        \n",
    "        Ev = Kv+Wv\n",
    "        \n",
    "       # print(\"Wv\",Wv/Ev,\"Kv\",Kv/Ev)\n",
    "        \n",
    "\n",
    "    \n",
    "        if(n_cntr==0):\n",
    "            \n",
    "            self.E[0] = Kv+Wv\n",
    "            self.K[0] = Kv\n",
    "            self.W[0] = Wv\n",
    "            \n",
    "            self.E_exp = 0.0\n",
    "            self.E_ini = Ev\n",
    "            dlta = 0.0\n",
    "            dlta_intg=0.0\n",
    "            \n",
    "        if(n_cntr==1):\n",
    "        \n",
    "            self.E[1] = Kv+Wv\n",
    "            self.K[1] = Kv\n",
    "            self.W[1] = Wv\n",
    "            \n",
    "            dlta = 0.0\n",
    "            dlta_intg=0.0\n",
    "            \n",
    "            \n",
    "\n",
    "            \n",
    "        \n",
    "            \n",
    "        \n",
    "            \n",
    "        if(n_cntr>1):\n",
    "            \n",
    "            if((n_cntr)%2==0):\n",
    "                term_l = (2.0*self.K[0]+self.W[0])/(a-2.0*da)\n",
    "                term_m = (2.0*self.K[1]+self.W[1])/(a-da)\n",
    "                term_r = (2.0*Kv+Wv)/a\n",
    "                self.E_exp+=(da/3.0)*(term_l+term_r+4.0*term_m)\n",
    "                \n",
    "            \n",
    "            self.E[2] = Ev\n",
    "            \n",
    "            self.K[2] = Kv\n",
    "            self.W[2] = Wv\n",
    "            \n",
    "            dE_da = (self.E[2]-self.E[0])/(2.0*da)\n",
    "            rhs = -(2.0*self.K[1]+self.W[1])/(a-da)\n",
    "            #rhs = self.W[1]/(a-da)\n",
    "            \n",
    "            dlta = dE_da/rhs-1.0\n",
    "            \n",
    "            #\n",
    "            \n",
    "            self.E[0] = self.E[1]\n",
    "            self.K[0] = self.K[1]\n",
    "            self.W[0] = self.W[1]\n",
    "            \n",
    "            self.E[1] = self.E[2]\n",
    "            self.K[1] = self.K[2]\n",
    "            self.W[1] = self.W[2]\n",
    "            \n",
    "            dlta_intg = (self.E_exp+Ev)/self.E_ini -1.0\n",
    "            \n",
    "            if(n_cntr==2):\n",
    "                self.E_ini = (self.E_exp+Ev)\n",
    "            \n",
    "        #print(\"E_tot\",self.E_exp+Ev,self.E_exp,Ev)\n",
    "            \n",
    "        return dlta,dlta_intg,Ev\n",
    "\n",
    "        \n",
    "    \n",
    "        \n",
    "\n",
    "def sol_err(psi,t,nx,T,max_err=-1.0):\n",
    "\n",
    "    sol = np.exp(-1j*(2.0*t*np.pi/T))*np.sin(2.0*np.pi*nx)\n",
    "    #print(\"sol shape\",sol.shape,\"psi.shape\",psi.shape)\n",
    "    err = np.square(np.abs(sol-psi).flatten()).sum()\n",
    "    err = err/(np.square(np.abs(sol).flatten()).sum())\n",
    "    if(err>max_err):\n",
    "        max_err = err\n",
    "    return(max_err)\n",
    "\n",
    "\n",
    "\n",
    "def solve_fdm_example(N,da):\n",
    "    L = 1.0\n",
    "    \n",
    "    x = np.arange(-N/2,N/2)*(L/N)\n",
    "    xv,yv,zv = np.meshgrid(x,x,x)\n",
    "    xi = np.fft.fftfreq(N)*N*2*np.pi/L\n",
    "    xix,xiy,xiz = np.meshgrid(xi,xi,xi)\n",
    "    xi3 = np.array([xix,xiy,xiz])\n",
    "    print(\"XI shape\",xi3.shape)\n",
    "    \n",
    "    c_unit = 2.99\n",
    "    hbar_unit = 6.582\n",
    "    pc_unit = 3.086\n",
    "    h = 0.67\n",
    "    m_alpha = 0.175\n",
    "    omega_m0 = 0.3\n",
    "    ai = 0.0078125\n",
    "    \n",
    "    kppa = c_unit*c_unit*hbar_unit*h*0.00001/(m_alpha*pc_unit)\n",
    "    \n",
    "   \n",
    "   \n",
    "    psi_ini = load_psi_hdf5(\"/Users/rajvanmp/station_X/pyGP_fields/test_fdm_dt/dc_128_dc_theta_psi_zeldo.hdf5\",N,1)\n",
    "   \n",
    "    \n",
    "   \n",
    "    #psl = np.reshape(np.genfromtxt(\"test_initial1.txt\",usecols=(4,5)),(N,N,N,2))\n",
    "    #psi_ini = (psl[:,:,:,0]/100.0)+1j*(psl[:,:,:,1]/100.0)\n",
    "    \n",
    "    print(psi_ini.shape)\n",
    "    \n",
    "    \n",
    "\n",
    "   \n",
    "    print(type(psi_ini),psi_ini.shape,psi_ini.dtype)\n",
    "    amax = 1.0\n",
    "\n",
    "    \n",
    "\n",
    "    num_plots = 50\n",
    "    nplt = np.floor(((amax-ai)/num_plots)/da)\n",
    "    if(nplt<1):\n",
    "        nplt  = 1\n",
    "    nmax = int(round((amax-ai)/da))\n",
    "    print(nplt,\"nmax\",nmax)\n",
    "\n",
    "    frames = [psi_ini.copy()]\n",
    "    aa = [0]\n",
    "    err_l = []\n",
    "    mass_l = []\n",
    "    mass_err_l=[]\n",
    "    eng_err_l = []\n",
    "    \n",
    "\n",
    "    \n",
    "    \n",
    "    psi = GPE_scalar_field(3,N,im_rhs,rhs_f,imx,psi_ini)\n",
    "    \n",
    "    energy_cond = energy_constraint()\n",
    "    \n",
    "    \n",
    "    xi2 = (xix*xix+xiy*xiy+xiz*xiz)\n",
    "    lmbda_s = (0.5*kppa*xi2)\n",
    "    \n",
    "    u2 = np.square(np.abs(psi_ini))\n",
    "    vrhs = 0.5*(u2-np.mean(u2))/kppa\n",
    "    dlt = (u2-np.mean(u2))/(3.0*omega_m0)\n",
    "    vrhsft = -np.fft.fftn(vrhs,vrhs.shape)/xi2\n",
    "    vrhsft[0,0,0] = 0.0+0.0*1j\n",
    "    v = (np.fft.ifftn(vrhsft,vrhsft.shape))/(ai*ai*Hfunc(ai,omega_m0));\n",
    "    \n",
    "    mass = psi.calc_mass()\n",
    "    \n",
    "    max_err = -1.0\n",
    "    a = ai\n",
    "    start_time = time.time()  \n",
    "   \n",
    "    for n in range(nmax):\n",
    "        \n",
    "        eng_dlta,eng_dlta_intg,Ev = energy_cond.calc_energy(psi.psi,xi3,xi2,kppa,a,da,n)\n",
    "        #print(n)\n",
    "        for k in range(imx.s):\n",
    "            ak = a+imx.im_C[k]*da\n",
    "            Hk = Hfunc(ak,omega_m0)\n",
    "            lmbda = lmbda_s/(ak*ak*ak*Hk)\n",
    "            \n",
    "            psi.update_stage_sum(k,da)\n",
    "            psi.do_fft(k,lmbda,da)\n",
    "            psi.update_K(k,xi2,kppa,a,da,k,omega_m0)\n",
    "            \n",
    "            #max_egn = calc_max_eig(psi.psi,xi2,kppa,a,omega_m0)\n",
    "            #print(\"maxeg*dt @ n\",max_egn*da,n,k,imx.r_of_stb.imag)\n",
    "        psi_tmp = psi.psi*1.0   \n",
    "        psi.sum_contributions(da)\n",
    "        \n",
    "        \n",
    "        a = ai+(n+1)*da\n",
    "        \n",
    "        max_egn = calc_max_eig(psi.psi,xi2,kppa,a,omega_m0)\n",
    "        \n",
    "        \n",
    "        \n",
    "        if((max_egn*da)>imx.r_of_stb.imag):\n",
    "            print(\"maxeg*dt @ n\",max_egn*da,n,k,imx.r_of_stb.imag)\n",
    "            da  = 0.9*(imx.r_of_stb.imag/max_egn)\n",
    "        \n",
    "        \n",
    "        \n",
    "        if np.mod(n,nplt) == 0:\n",
    "            frames.append(psi.psi)\n",
    "            aa.append(a)\n",
    "           # err = sol_err(psi.psi,t,nx,T,max_err)\n",
    "          #  err_l.append(err)\n",
    "            print(np.abs(mass-psi.mass_ini)/psi.mass_ini)\n",
    "            print(a,da,eng_dlta,eng_dlta_intg)\n",
    "            \n",
    "            mass = np.sum(np.square(np.abs(psi.psi)))#psi.calc_mass()\n",
    "            mass_err = np.abs((mass-psi.mass_ini))/psi.mass_ini\n",
    "            \n",
    "            mass_l.append(mass)\n",
    "            mass_err_l.append(mass_err)\n",
    "            eng_err_l.append([eng_dlta,eng_dlta_intg])\n",
    "            \n",
    "            \n",
    "\n",
    "\n",
    "   # err =  sol_err(psi.psi,t,nx,T,max_err)\n",
    "  #  err_l.append(err)\n",
    "            \n",
    "    mass = np.sum(np.square(np.abs(psi.psi)))\n",
    "    mass_err = np.abs((mass-psi.mass_ini))/psi.mass_ini\n",
    "    #eng_dlta = energy_cond.calc_energy(psi.psi,xi3,xi2,kppa,a,da,n)\n",
    "    \n",
    "    print(\"LAST\",mass_err,eng_dlta)\n",
    "            \n",
    "    mass_l.append(mass)\n",
    "    mass_err_l.append(mass_err)\n",
    "       \n",
    "    return frames,mass_l,mass_err_l,eng_err_l,(time.time() - start_time)"
   ]
  },
  {
   "cell_type": "code",
   "execution_count": 4,
   "id": "b21ef8fb",
   "metadata": {},
   "outputs": [
    {
     "name": "stdout",
     "output_type": "stream",
     "text": [
      "0\n",
      "XI shape (3, 128, 128, 128)\n",
      "Psi shape (128, 128, 128) complex128\n",
      "(128, 128, 128)\n",
      "<class 'numpy.ndarray'> (128, 128, 128) complex128\n",
      "19.0 nmax 992\n",
      "class shapes (128, 128, 128) (6, 128, 128, 128)\n",
      "(128, 128, 128) (128, 128, 128)\n"
     ]
    },
    {
     "name": "stderr",
     "output_type": "stream",
     "text": [
      "/var/folders/ll/kxnszbbj3b1bqwnlk_bqpjl8ffbpq7/T/ipykernel_66183/2991292739.py:285: RuntimeWarning: divide by zero encountered in divide\n",
      "  vrhsft = -np.fft.fftn(vrhs,vrhs.shape)/xi2\n",
      "/var/folders/ll/kxnszbbj3b1bqwnlk_bqpjl8ffbpq7/T/ipykernel_66183/2991292739.py:285: RuntimeWarning: invalid value encountered in divide\n",
      "  vrhsft = -np.fft.fftn(vrhs,vrhs.shape)/xi2\n",
      "/var/folders/ll/kxnszbbj3b1bqwnlk_bqpjl8ffbpq7/T/ipykernel_66183/2991292739.py:124: RuntimeWarning: divide by zero encountered in divide\n",
      "  vrhsft = -np.fft.fftn(vrhs,vrhs.shape)/xi2\n",
      "/var/folders/ll/kxnszbbj3b1bqwnlk_bqpjl8ffbpq7/T/ipykernel_66183/2991292739.py:124: RuntimeWarning: invalid value encountered in divide\n",
      "  vrhsft = -np.fft.fftn(vrhs,vrhs.shape)/xi2\n",
      "/var/folders/ll/kxnszbbj3b1bqwnlk_bqpjl8ffbpq7/T/ipykernel_66183/2991292739.py:65: RuntimeWarning: divide by zero encountered in divide\n",
      "  vrhsft = -np.fft.fftn(vrhs,vrhs.shape)/xi2\n",
      "/var/folders/ll/kxnszbbj3b1bqwnlk_bqpjl8ffbpq7/T/ipykernel_66183/2991292739.py:65: RuntimeWarning: invalid value encountered in divide\n",
      "  vrhsft = -np.fft.fftn(vrhs,vrhs.shape)/xi2\n",
      "/var/folders/ll/kxnszbbj3b1bqwnlk_bqpjl8ffbpq7/T/ipykernel_66183/2991292739.py:89: RuntimeWarning: divide by zero encountered in divide\n",
      "  vrhsft = -np.fft.fftn(vrhs,vrhs.shape)/xi2\n",
      "/var/folders/ll/kxnszbbj3b1bqwnlk_bqpjl8ffbpq7/T/ipykernel_66183/2991292739.py:89: RuntimeWarning: invalid value encountered in divide\n",
      "  vrhsft = -np.fft.fftn(vrhs,vrhs.shape)/xi2\n"
     ]
    },
    {
     "name": "stdout",
     "output_type": "stream",
     "text": [
      "[0.]\n",
      "0.008812500000000001 0.001 0.0 0.0\n",
      "0.0009055182500624113\n",
      "0.0278125 0.001 -0.009592452202581758 -0.02209301276935849\n",
      "0.0009572773760909609\n",
      "0.0468125 0.001 -0.002055117652233762 -0.01971698825851398\n",
      "0.0009562091646837693\n",
      "0.0658125 0.001 -0.0036689554978917016 -0.02007224729116408\n",
      "0.0009561565505447674\n",
      "0.0848125 0.001 -0.00470387801703831 -0.019659214897981947\n",
      "0.000956150252545637\n",
      "0.1038125 0.001 -0.0052353567001259815 -0.01992785659857721\n",
      "0.0009561494203618419\n",
      "0.1228125 0.001 -0.005522431301648867 -0.019599385506410383\n",
      "0.0009561500215152056\n",
      "0.1418125 0.001 -0.005697310441408199 -0.01986864483934292\n",
      "0.0009561518244402879\n",
      "0.1608125 0.001 -0.005823556282254283 -0.019533824223879948\n",
      "0.00095615567958965\n",
      "0.17981250000000001 0.001 -0.005933711313526935 -0.019826629086894365\n",
      "0.0009561637769289191\n",
      "0.1988125 0.001 -0.00604611088382534 -0.019459220093428375\n",
      "0.0009561813631450707\n",
      "0.2178125 0.001 -0.006168351394519989 -0.019793472841476367\n",
      "0.0009562226773010452\n",
      "0.2368125 0.001 -0.006288425579431212 -0.01937030949719376\n",
      "0.000956333212773372\n",
      "0.2558125 0.001 -0.006470769838178181 -0.019765838591470297\n",
      "0.0009566917167712606\n",
      "0.2748125 0.001 -0.00823421808240743 -0.019253901843792276\n",
      "0.0009585448847863015\n",
      "0.29381250000000003 0.001 -0.03831244235097431 -0.019669130023180936\n",
      "0.0009893460332300959\n",
      "0.3128125 0.001 -0.032376655231036056 -0.01859550334294635\n",
      "0.0010582879300825058\n",
      "0.3318125 0.001 -0.07145494900187033 -0.01835488029877319\n",
      "0.001203756180952123\n",
      "0.3508125 0.001 -0.13038315436142867 -0.014798788061755386\n",
      "0.001604436479599123\n",
      "0.3698125 0.001 -0.08112881055987198 -0.01456874440994027\n",
      "0.0017503344323617587\n",
      "0.3888125 0.001 -0.13699829581756795 -0.011950408504223908\n",
      "0.002038500471799374\n",
      "0.4078125 0.001 -0.4794116770040734 -0.0060324460062691765\n",
      "0.0029270823707419516\n",
      "0.4268125 0.001 -0.21321644013171825 0.0004724463131209333\n",
      "0.0036626867706237975\n",
      "0.4458125 0.001 -0.45319568552991985 0.0030690218829567684\n",
      "0.0041504446337359314\n",
      "0.4648125 0.001 -0.3236382899134661 0.009714876000054495\n",
      "0.0049231697341693545\n",
      "0.48381250000000003 0.001 -0.1870216497594459 0.012315597504004794\n",
      "0.005412451792968738\n",
      "0.5028125 0.001 -0.4126289933944064 0.01711665004733609\n",
      "0.006022186972281831\n",
      "0.5218125 0.001 -0.1557146956301706 0.01961499083332896\n",
      "0.006459404722738214\n",
      "0.5408125 0.001 -0.3238473220350476 0.02299405044970504\n",
      "0.006879042750325589\n",
      "0.5598125 0.001 -0.24960177953170237 0.02644865235424887\n",
      "0.007504946604455342\n",
      "0.5788125000000001 0.001 -0.22332359300501692 0.029590834135141186\n",
      "0.007905591724570416\n",
      "0.5978125 0.001 -0.3166509446885981 0.032016318114747255\n",
      "0.008379081762176189\n",
      "0.6168125 0.001 -0.335899275881808 0.03657443952435546\n",
      "0.009011616723360646\n",
      "0.6358125 0.001 -0.16004227059475662 0.03839151966348542\n",
      "0.009407421930989215\n",
      "0.6548125 0.001 -0.13857164458391702 0.03994771069389147\n",
      "0.009615661566260267\n",
      "0.6738125 0.001 -0.16265215325936333 0.04059305627207066\n",
      "0.009786183101356247\n",
      "0.6928125 0.001 -0.1728412640211361 0.04199386973235075\n",
      "0.009967058954131953\n",
      "0.7118125 0.001 -0.1859771071217311 0.04274064322621807\n",
      "0.010137380480631411\n",
      "0.7308125 0.001 -0.320531346347774 0.044262648780869274\n",
      "0.010334333764650799\n",
      "0.7498125 0.001 -0.18695506700996545 0.04555351951773656\n",
      "0.010587665202262035\n",
      "0.7688125 0.001 -0.1561365444107261 0.04636578404237501\n",
      "0.010706515096630688\n",
      "0.7878125 0.001 -0.20345111429584317 0.04677422771495032\n",
      "0.010801513470363634\n",
      "0.8068125 0.001 -0.23374822697065167 0.04765536802915049\n",
      "0.010908726245230224\n",
      "0.8258125000000001 0.001 -0.1661100277933586 0.04804090814320272\n",
      "0.01100366368653107\n",
      "0.8448125 0.001 -0.17583703792705707 0.04851109719148616\n",
      "0.011066553423774708\n",
      "0.8638125 0.001 -0.17477362475589808 0.04876898013763786\n",
      "0.011119207731422836\n",
      "0.8828125 0.001 -0.18427075176643326 0.04913911202608068\n",
      "0.011163610670719129\n",
      "0.9018125 0.001 -0.2597089867645148 0.04940042580885695\n",
      "0.011205146409424755\n",
      "0.9208125 0.001 -0.17963939128676176 0.04975499246808557\n",
      "0.011250111109634094\n",
      "0.9398125 0.001 -0.2105181275396586 0.049903496616659826\n",
      "0.011285036254316703\n",
      "0.9588125000000001 0.001 -0.3490339486705015 0.05017805007879539\n",
      "0.01131574624909582\n",
      "0.9778125 0.001 -0.2505416531642669 0.05035654474475937\n",
      "0.011348768352603882\n",
      "0.9968125 0.001 -0.3671475705912458 0.05051225611146082\n",
      "LAST 0.01137784904093607 -0.38916827672777166\n"
     ]
    },
    {
     "name": "stderr",
     "output_type": "stream",
     "text": [
      "/Users/Shared/my_installs/anaconda3/envs/k@ust/lib/python3.10/site-packages/IPython/core/interactiveshell.py:3505: RankWarning: Polyfit may be poorly conditioned\n",
      "  exec(code_obj, self.user_global_ns, self.user_ns)\n"
     ]
    }
   ],
   "source": [
    "da = 0.001\n",
    "er = []\n",
    "dal = []\n",
    "for i in range(1):\n",
    "        print(i)\n",
    "        frames,mass_l,mass_err_l,eng_er_l,comp_time = solve_fdm_example(128,da)\n",
    "        \n",
    "        er.append(np.max(np.abs(mass_err_l)))\n",
    "        dal.append(da)\n",
    "        \n",
    "        da = 0.5*da\n",
    "        \n",
    "        \n",
    "\n",
    "er = np.array(er)\n",
    "dal = np.array(dal)\n",
    "\n",
    "ldt = np.log(dal)\n",
    "lerrmx = np.log(er)\n",
    "\n",
    "\n",
    "z= np.polyfit(ldt,lerrmx,1)\n",
    "\n",
    "#print(z)"
   ]
  },
  {
   "cell_type": "code",
   "execution_count": 11,
   "id": "558f702e",
   "metadata": {},
   "outputs": [
    {
     "name": "stdout",
     "output_type": "stream",
     "text": [
      "[0.01137785 0.00152138] [ 2.90277853 15.57559682]\n"
     ]
    }
   ],
   "source": [
    "        \n",
    "\n",
    "er = np.array(er)\n",
    "dal = np.array(dal)\n",
    "\n",
    "ldt = np.log(dal)\n",
    "lerrmx = np.log(er)\n",
    "\n",
    "\n",
    "z= np.polyfit(ldt,lerrmx,1)\n",
    "print(er,z)"
   ]
  },
  {
   "cell_type": "code",
   "execution_count": 5,
   "id": "9b4b6c28",
   "metadata": {},
   "outputs": [],
   "source": [
    "with open('imex4O_psi_0p5m4.npy', 'wb') as f:\n",
    "    np.save(f,frames[-1])"
   ]
  },
  {
   "cell_type": "code",
   "execution_count": 8,
   "id": "8855771b",
   "metadata": {},
   "outputs": [
    {
     "data": {
      "text/plain": [
       "[<matplotlib.lines.Line2D at 0x1211e9360>]"
      ]
     },
     "execution_count": 8,
     "metadata": {},
     "output_type": "execute_result"
    },
    {
     "data": {
      "image/png": "[encoded data removed]",
      "text/plain": [
       "<Figure size 640x480 with 1 Axes>"
      ]
     },
     "metadata": {},
     "output_type": "display_data"
    }
   ],
   "source": [
    "plt.plot(dal,er,\"*-\")"
   ]
  },
  {
   "cell_type": "code",
   "execution_count": 10,
   "id": "d1638199",
   "metadata": {},
   "outputs": [
    {
     "data": {
      "text/plain": [
       "array([0.001 , 0.0005])"
      ]
     },
     "execution_count": 10,
     "metadata": {},
     "output_type": "execute_result"
    }
   ],
   "source": [
    "dal"
   ]
  },
  {
   "cell_type": "code",
   "execution_count": 86,
   "id": "95d6ad0a",
   "metadata": {},
   "outputs": [
    {
     "name": "stdout",
     "output_type": "stream",
     "text": [
      "[1.48107407 0.54666867] [ 0.64806944 -0.00258688]\n"
     ]
    }
   ],
   "source": [
    "er9 = np.array([0.010032908622657452,0.008318895463512969,0.0058032856589819125,0.003759421933143914])\n",
    "dal = np.array([0.02,0.016,0.0128,0.01024])\n",
    "\n",
    "\n",
    "zl =  np.polyfit(dal,er9,1)\n",
    "print(z,zl)"
   ]
  },
  {
   "cell_type": "code",
   "execution_count": 72,
   "id": "83ece86e",
   "metadata": {},
   "outputs": [],
   "source": [
    "er = [0.011023150021712851,0.003329787928342017,0.0016355046529647603,0.0013103337915628308,0.0011128141757339501]"
   ]
  },
  {
   "cell_type": "code",
   "execution_count": 87,
   "id": "cedf1d80",
   "metadata": {},
   "outputs": [
    {
     "data": {
      "text/plain": [
       "[<matplotlib.lines.Line2D at 0x3b52157e0>]"
      ]
     },
     "execution_count": 87,
     "metadata": {},
     "output_type": "execute_result"
    },
    {
     "data": {
      "image/png": "[encoded data removed]",
      "text/plain": [
       "<Figure size 640x480 with 1 Axes>"
      ]
     },
     "metadata": {},
     "output_type": "display_data"
    }
   ],
   "source": [
    "plt.plot(dal,er9,\"*-\")"
   ]
  },
  {
   "cell_type": "code",
   "execution_count": 40,
   "id": "74476fcf",
   "metadata": {},
   "outputs": [
    {
     "data": {
      "text/plain": [
       "[<matplotlib.lines.Line2D at 0x29118e350>]"
      ]
     },
     "execution_count": 40,
     "metadata": {},
     "output_type": "execute_result"
    },
    {
     "data": {
      "image/png": "[encoded data removed]",
      "text/plain": [
       "<Figure size 640x480 with 1 Axes>"
      ]
     },
     "metadata": {},
     "output_type": "display_data"
    }
   ],
   "source": [
    "plt.plot(mass_l,\"*\")"
   ]
  },
  {
   "cell_type": "code",
   "execution_count": 41,
   "id": "e1b0189f",
   "metadata": {},
   "outputs": [
    {
     "data": {
      "text/plain": [
       "[array([1886784.6361173]),\n",
       " array([1886843.78919322]),\n",
       " array([1887243.41215242]),\n",
       " array([1887823.45518898]),\n",
       " array([1888509.97960656]),\n",
       " array([1889265.37208902]),\n",
       " array([1890067.48562509]),\n",
       " array([1890901.44116947]),\n",
       " array([1891756.30405306]),\n",
       " array([1892623.39854029]),\n",
       " array([1893495.7229874]),\n",
       " array([1894367.63733073]),\n",
       " array([1895234.67116943]),\n",
       " array([1896093.11482021]),\n",
       " array([1896940.18067787]),\n",
       " array([1897773.54353581]),\n",
       " array([1898591.46966142]),\n",
       " array([1899392.677979]),\n",
       " array([1900176.17055637]),\n",
       " array([1900941.26301838]),\n",
       " array([1901687.52878239]),\n",
       " array([1902414.701145]),\n",
       " array([1903122.68048835]),\n",
       " array([1903811.49066329]),\n",
       " array([1904481.26859139]),\n",
       " array([1905132.21630296]),\n",
       " array([1905764.61709718]),\n",
       " array([1906378.79113998]),\n",
       " array([1906975.10096985]),\n",
       " array([1907553.94222865]),\n",
       " array([1907553.94222865])]"
      ]
     },
     "execution_count": 41,
     "metadata": {},
     "output_type": "execute_result"
    }
   ],
   "source": [
    "mass_l"
   ]
  },
  {
   "cell_type": "code",
   "execution_count": 20,
   "id": "a2f1a68b",
   "metadata": {},
   "outputs": [
    {
     "data": {
      "text/plain": [
       "4.8069030937600115"
      ]
     },
     "execution_count": 20,
     "metadata": {},
     "output_type": "execute_result"
    }
   ],
   "source": [
    "0.02424803020672399/0.0050444183570501145"
   ]
  },
  {
   "cell_type": "code",
   "execution_count": 117,
   "id": "29074d7a",
   "metadata": {},
   "outputs": [
    {
     "name": "stdout",
     "output_type": "stream",
     "text": [
      "0.9650841359308788\n"
     ]
    }
   ],
   "source": [
    "ai = 0.0078125\n",
    "omega_m0 = 0.3\n",
    "c_unit = 2.99\n",
    "hbar_unit = 6.582\n",
    "pc_unit = 3.086\n",
    "h = 0.67\n",
    "m_alpha = 0.175\n",
    "omega_m0 = 0.3\n",
    "ai = 0.0078125\n",
    "    \n",
    "kppa = c_unit*c_unit*hbar_unit*h*0.00001/(m_alpha*pc_unit)\n",
    "print(0.5*kppa/(ai*ai*ai*Hfunc(ai,omega_m0)))"
   ]
  },
  {
   "cell_type": "code",
   "execution_count": 26,
   "id": "095afeb1",
   "metadata": {},
   "outputs": [
    {
     "data": {
      "image/png": "[encoded data removed]",
      "text/plain": [
       "<Figure size 1500x1000 with 1 Axes>"
      ]
     },
     "metadata": {},
     "output_type": "display_data"
    }
   ],
   "source": [
    "fig = plt.figure(figsize=(15,10))\n",
    "plt.yscale(\"log\")\n",
    "plt.xlabel(\"time\")\n",
    "plt.ylabel(r\"$\\frac{Mass-Mass_{ini}}{Mass_{ini}}$\",fontsize=30)\n",
    "plt.plot(np.abs(mass_err_l2),\"b\",label = \"dt=10^(-3)\")\n",
    "plt.plot(np.abs(mass_err_l),\"r\",label = \"dt=10^(-4)\")\n",
    "plt.legend(loc=\"best\")\n",
    "fig.savefig(\"fdm_test.pdf\")"
   ]
  },
  {
   "cell_type": "code",
   "execution_count": null,
   "id": "2715daa3",
   "metadata": {},
   "outputs": [],
   "source": [
    "f = h5.File('test_psi_da1p25m4.h5', 'w')\n",
    "\n",
    "d = f.create_dataset(\"psi_frames\",data = np.array(frames))\n",
    "d = f.create_dataset(\"mass_err\",data=np.array(mass_err_l))\n",
    "d = f.create_dataset(\"compute_time\",data = comp_time)\n",
    "d = f.create_dataset(\"da\",data=(np.array(da)))\n",
    "\n",
    "\n",
    "    \n",
    "f.close()\n",
    "print(comp_time)"
   ]
  },
  {
   "cell_type": "code",
   "execution_count": 15,
   "id": "fedec21f",
   "metadata": {},
   "outputs": [],
   "source": [
    "#with open('test_data_m3.npy', 'wb') as f2:\n",
    "#    np.save(f2,np.array(frames2))"
   ]
  },
  {
   "cell_type": "code",
   "execution_count": 38,
   "id": "135f9ec4",
   "metadata": {},
   "outputs": [
    {
     "data": {
      "text/plain": [
       "dtype('complex128')"
      ]
     },
     "execution_count": 38,
     "metadata": {},
     "output_type": "execute_result"
    }
   ],
   "source": [
    "dta.dtype"
   ]
  },
  {
   "cell_type": "code",
   "execution_count": 39,
   "id": "481835b8",
   "metadata": {},
   "outputs": [
    {
     "data": {
      "text/plain": [
       "(51, 128, 128, 128)"
      ]
     },
     "execution_count": 39,
     "metadata": {},
     "output_type": "execute_result"
    }
   ],
   "source": [
    "dta.shape"
   ]
  },
  {
   "cell_type": "code",
   "execution_count": 18,
   "id": "8f74fcaa",
   "metadata": {},
   "outputs": [],
   "source": [
    "d2 = d2/10000.0"
   ]
  },
  {
   "cell_type": "code",
   "execution_count": 19,
   "id": "cafc9de3",
   "metadata": {},
   "outputs": [],
   "source": [
    "dlt = d2.flatten()/(3.0*0.3)-1.0"
   ]
  },
  {
   "cell_type": "code",
   "execution_count": 20,
   "id": "ed379a84",
   "metadata": {},
   "outputs": [
    {
     "data": {
      "text/plain": [
       "(2097152,)"
      ]
     },
     "execution_count": 20,
     "metadata": {},
     "output_type": "execute_result"
    }
   ],
   "source": [
    "dlt.shape"
   ]
  },
  {
   "cell_type": "code",
   "execution_count": 21,
   "id": "72e566d9",
   "metadata": {},
   "outputs": [
    {
     "data": {
      "text/plain": [
       "-4.3141312744410243e-10"
      ]
     },
     "execution_count": 21,
     "metadata": {},
     "output_type": "execute_result"
    }
   ],
   "source": [
    "dlt.sum()"
   ]
  },
  {
   "cell_type": "code",
   "execution_count": 22,
   "id": "1c00e6ff",
   "metadata": {},
   "outputs": [
    {
     "data": {
      "text/plain": [
       "array([[103.02049518,  -1.25228466],\n",
       "       [ 98.86225297,  -1.17613939],\n",
       "       [ 96.26808953,  -1.12063124],\n",
       "       ...,\n",
       "       [103.57740649,  -1.60874772],\n",
       "       [108.51031287,  -1.53114843],\n",
       "       [108.00033975,  -1.42282909]])"
      ]
     },
     "execution_count": 22,
     "metadata": {},
     "output_type": "execute_result"
    }
   ],
   "source": [
    "d.real"
   ]
  },
  {
   "cell_type": "code",
   "execution_count": null,
   "id": "8fb3bd22",
   "metadata": {},
   "outputs": [],
   "source": []
  }
 ],
 "metadata": {
  "kernelspec": {
   "display_name": "Python 3 (ipykernel)",
   "language": "python",
   "name": "python3"
  },
  "language_info": {
   "codemirror_mode": {
    "name": "ipython",
    "version": 3
   },
   "file_extension": ".py",
   "mimetype": "text/x-python",
   "name": "python",
   "nbconvert_exporter": "python",
   "pygments_lexer": "ipython3",
   "version": "3.10.11"
  }
 },
 "nbformat": 4,
 "nbformat_minor": 5
}
