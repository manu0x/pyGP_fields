{
 "cells": [
  {
   "cell_type": "code",
   "execution_count": 1,
   "id": "7f4f6bc5",
   "metadata": {},
   "outputs": [],
   "source": [
    "import numpy as np\n",
    "import matplotlib.pyplot as plt"
   ]
  },
  {
   "cell_type": "code",
   "execution_count": 23,
   "id": "9a3e4331",
   "metadata": {},
   "outputs": [],
   "source": [
    "class GPE_scalar_field:\n",
    "    def __init__(self,dim,N,ex_rhs=None,im_rhs=None,imx=None):\n",
    "        self.my_shape=()\n",
    "        for i in range(dim):\n",
    "            self.my_shape=self.my_shape+(N,)\n",
    "        self.K_shape = self.my_shape+(imx.s)\n",
    "        print(self.my_shape)\n",
    "        \n",
    "        self.psi = np.zeros(self.my_shape,dtype=np.complex64)\n",
    "        self.f = np.zeros_like(self.psi)\n",
    "        self.f_t = np.zeros_like(self.f)\n",
    "        \n",
    "        self.im_K = np.zeros(self.K_shape,dtype=np.complex64)\n",
    "        self.ex_K = np.zeros_like(self.im_K)\n",
    "        \n",
    "        \n",
    "        self.ex_rhs = np.vectorize(ex_rhs)\n",
    "        self.im_rhs = np.vectorize(im_rhs)\n",
    "    \n",
    "    def do_f_fft(self,s_cntr,lmda):\n",
    "        self.f_t = np.fft.fftn(f,self.my_shape)\n",
    "    \n",
    "        #(1+i*a[s][s]*lmda)*f_t = ft(rhs)\n",
    "        self.f_t = self.f_t/(1.0+1j*lmda*imx.im_A[s_cntr][s_cntr])\n",
    "        self.f = np.fft.ifftn(ft,self.my_shape)\n",
    "        \n",
    "    def update_stage_sum(self,s_cntr):\n",
    "        for i in range(s_cntr):\n",
    "            if(i==0):\n",
    "                self.f = self.psi + dt*imx.ex_A[s_cntr][i]*self.ex_K+ dt*imx.im_A[s_cntr][i]*self.im_K\n",
    "            else:\n",
    "                self.f = self.f + dt*imx.ex_A[s_cntr][i]*self.ex_K+ dt*imx.im_A[s_cntr][i]*self.im_K\n",
    "            \n",
    "    def update_K(self,s_cntr,t=0.0):\n",
    "        self.ex_rhs[s_cntr] = self.ex_rhs(f,t,*args)\n",
    "        self.im_rhs[s_cntr] = self.im_rhs(f_t,t)\n",
    "        \n",
    "        #im_rhs takes only fourier space vector \n",
    "        \n",
    "       "
   ]
  },
  {
   "cell_type": "code",
   "execution_count": 24,
   "id": "23e7aa30",
   "metadata": {},
   "outputs": [
    {
     "name": "stdout",
     "output_type": "stream",
     "text": [
      "(3, 3, 3)\n",
      "[[[0.+0.j 0.+0.j 0.+0.j]\n",
      "  [0.+0.j 0.+0.j 0.+0.j]\n",
      "  [0.+0.j 0.+0.j 0.+0.j]]\n",
      "\n",
      " [[0.+0.j 0.+0.j 0.+0.j]\n",
      "  [0.+0.j 0.+0.j 0.+0.j]\n",
      "  [0.+0.j 0.+0.j 0.+0.j]]\n",
      "\n",
      " [[0.+0.j 0.+0.j 0.+0.j]\n",
      "  [0.+0.j 0.+0.j 0.+0.j]\n",
      "  [0.+0.j 0.+0.j 0.+0.j]]]\n"
     ]
    }
   ],
   "source": []
  },
  {
   "cell_type": "code",
   "execution_count": null,
   "id": "317b47e5",
   "metadata": {},
   "outputs": [],
   "source": []
  }
 ],
 "metadata": {
  "kernelspec": {
   "display_name": "Python 3 (ipykernel)",
   "language": "python",
   "name": "python3"
  },
  "language_info": {
   "codemirror_mode": {
    "name": "ipython",
    "version": 3
   },
   "file_extension": ".py",
   "mimetype": "text/x-python",
   "name": "python",
   "nbconvert_exporter": "python",
   "pygments_lexer": "ipython3",
   "version": "3.10.11"
  }
 },
 "nbformat": 4,
 "nbformat_minor": 5
}
