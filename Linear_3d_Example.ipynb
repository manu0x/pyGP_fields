{
 "cells": [
  {
   "cell_type": "code",
   "execution_count": 1,
   "id": "7f4f6bc5",
   "metadata": {},
   "outputs": [],
   "source": [
    "import numpy as np\n",
    "import matplotlib.pyplot as plt\n",
    "#from IPython.core.display import HTML\n",
    "#css_file = './custom.css'\n",
    "#HTML(open(css_file, \"r\").read())"
   ]
  },
  {
   "cell_type": "code",
   "execution_count": null,
   "id": "fcbc1c14",
   "metadata": {},
   "outputs": [],
   "source": []
  },
  {
   "cell_type": "code",
   "execution_count": 2,
   "id": "3047c58a",
   "metadata": {},
   "outputs": [],
   "source": [
    "from GPE import GPE_scalar_field\n",
    "from GPE import ImEx\n"
   ]
  },
  {
   "cell_type": "code",
   "execution_count": 3,
   "id": "2f893114",
   "metadata": {},
   "outputs": [],
   "source": [
    "import numpy as np\n",
    "%matplotlib inline\n",
    "import matplotlib\n",
    "import matplotlib.pyplot as plt\n",
    "import matplotlib.animation\n",
    "from IPython.display import HTML\n",
    "font = {'size'   : 15}\n",
    "matplotlib.rc('font', **font)\n",
    "\n",
    "fft = np.fft.fft\n",
    "ifft = np.fft.ifft\n",
    "\n",
    "def plot_solution(frames, uuhat, x, tt, xi):\n",
    "    fig = plt.figure(figsize=(12,8))\n",
    "    axes = fig.add_subplot(211)\n",
    "    axes2 = fig.add_subplot(212)\n",
    "    line, = axes.plot(x,frames[0],lw=3)\n",
    "    line2, = axes2.semilogy(xi,np.abs(np.fft.fft(frames[0])))\n",
    "    xi_max = np.max(np.abs(xi))\n",
    "    axes2.semilogy([xi_max/2.,xi_max/2.],[1.e-6,4e8],'--r')\n",
    "    axes2.semilogy([-xi_max/2.,-xi_max/2.],[1.e-8,4e10],'--r')\n",
    "    axes.set_xlabel(r'$x$',fontsize=30)\n",
    "    axes2.set_xlabel(r'$\\xi$',fontsize=30)\n",
    "    plt.tight_layout()\n",
    "    plt.close()\n",
    "\n",
    "    def plot_frame(i):\n",
    "        line.set_data(x,frames[i])\n",
    "        power_spectrum = np.abs(uuhat[i])**2\n",
    "        line2.set_data(np.sort(xi),power_spectrum[np.argsort(xi)])\n",
    "        axes.set_title('t= %.2e' % tt[i])\n",
    "        axes.set_xlim((-np.pi,np.pi))\n",
    "        axes.set_ylim((-200,3000))\n",
    "\n",
    "    anim = matplotlib.animation.FuncAnimation(fig, plot_frame,\n",
    "                                              frames=len(frames), interval=100,\n",
    "                                              repeat=False)\n",
    "    return HTML(anim.to_jshtml())"
   ]
  },
  {
   "cell_type": "code",
   "execution_count": 62,
   "id": "2e59ba1a",
   "metadata": {},
   "outputs": [],
   "source": [
    "#1-d Linear example\n",
    "\n",
    "# Higueras (17)\n",
    "A    = np.array([[0,0,0],[5/6.,0,0],[11/24,11/24,0]])\n",
    "Ahat = np.array([[2./11,0,0],[205/462.,2./11,0],[2033/4620,21/110,2/11]])\n",
    "b = np.array([24/55.,1./5,4./11])\n",
    "bhat = b\n",
    "\n",
    "imx = ImEx(3,Ahat,A,bhat,b)\n",
    "\n",
    "\n",
    "\n",
    "def rhs_f(u,xi,m,n):\n",
    "    # Evaluate only the non-stiff nonlinear term\n",
    "    #m = args[1]\n",
    "    #n = args[2]\n",
    "    v = (1.0-2.0*np.pi*n*np.pi*n/(m**2))\n",
    "    \n",
    "    \n",
    "    \n",
    "    return (-1j*m*v*u)\n",
    "\n",
    "def im_rhs(psi_ft,xi,m,n):\n",
    "   \n",
    "    psi_ft = -psi_ft*(xi**2)\n",
    "    return(1j*0.5*np.fft.ifft(psi_ft)/(m))\n",
    "\n",
    "\n",
    "def sol_err(psi,t,nx,T,max_err=-1.0):\n",
    "\n",
    "    sol = np.exp(-1j*(2.0*t*np.pi/T))*np.sin(2.0*np.pi*nx)\n",
    "    err = np.square(np.abs(sol-psi)).sum()\n",
    "    err = err/(np.square(np.abs(sol)).sum())\n",
    "    if(err>max_err):\n",
    "        max_err = err\n",
    "    return(max_err)\n",
    "\n",
    "\n",
    "def solve_1d_example(m,dt):\n",
    "    L = 2.0\n",
    "    \n",
    "    x = np.arange(-m/2,m/2)*(L/m)\n",
    "    xv = np.array([x,x,x])\n",
    "    xi = np.fft.fftfreq(m)*m*2*np.pi/L\n",
    "    pm = 0.1\n",
    "    pn = 2.0/L\n",
    "    pnv = np.array([pn,pn,pn])\n",
    "    nx = np.dot(pn,x)\n",
    "    print(nx.shape,x.shape)\n",
    "    \n",
    "    T = 2.0*np.pi/pm\n",
    "    \n",
    "    \n",
    "    u = np.exp(-1j*0.0)*np.sin(2.0*np.pi*nx)\n",
    "    \n",
    "    #chk_err = sol_err(u,0.0,nx,T,-1.0)\n",
    "    #print(\"chk err \",chk_err)\n",
    "   \n",
    "    print(type(u),u.shape,u.dtype)\n",
    "    tmax = 2.0\n",
    "\n",
    "    \n",
    "\n",
    "    num_plots = 50\n",
    "    nplt = np.floor((tmax/num_plots)/dt)\n",
    "    nmax = int(round(tmax/dt))\n",
    "    print(nplt,nmax)\n",
    "\n",
    "    frames = [u.copy()]\n",
    "    tt = [0]\n",
    "    err_l = []\n",
    "    mass_l = []\n",
    "    mass_err_l=[]\n",
    "    \n",
    "\n",
    "    \n",
    "    \n",
    "    psi = GPE_scalar_field(1,m,im_rhs,rhs_f,imx,u)\n",
    "    lmbda = (0.5*xi**2)/pm\n",
    "    max_err = -1.0\n",
    "    \n",
    "        \n",
    "    for n in range(0,nmax):\n",
    "        \n",
    "        #print(n)\n",
    "        for k in range(imx.s):\n",
    "            psi.update_stage_sum(k,dt)\n",
    "            psi.do_fft(k,lmbda,dt)\n",
    "            psi.update_K(k,xi,pm,pn)\n",
    "        psi.sum_contributions(dt)\n",
    "        \n",
    "        \n",
    "        t = (n+1)*dt\n",
    "        if np.mod(n,nplt) == 0:\n",
    "            frames.append(psi.psi)\n",
    "            tt.append(t)\n",
    "            err = sol_err(psi.psi,t,nx,T,max_err)\n",
    "            err_l.append(err)\n",
    "            \n",
    "            mass = psi.calc_mass()\n",
    "            mass_err = (mass-psi.mass_ini)/psi.mass_ini\n",
    "            \n",
    "            mass_l.append(mass)\n",
    "            mass_err_l.append(mass_err)\n",
    "            \n",
    "\n",
    "\n",
    "    err = sol_err(psi.psi,t,nx,T,max_err)\n",
    "    err_l.append(err)\n",
    "            \n",
    "    mass = psi.calc_mass()\n",
    "    mass_err = (mass-psi.mass_ini)/psi.mass_ini\n",
    "            \n",
    "    mass_l.append(mass)\n",
    "    mass_err_l.append(mass_err)\n",
    "       \n",
    "    return frames, x,err_l,mass_l,mass_err_l"
   ]
  },
  {
   "cell_type": "code",
   "execution_count": null,
   "id": "1d7bcc1d",
   "metadata": {},
   "outputs": [],
   "source": []
  },
  {
   "cell_type": "code",
   "execution_count": 66,
   "id": "317d7101",
   "metadata": {},
   "outputs": [
    {
     "name": "stdout",
     "output_type": "stream",
     "text": [
      "(128,) (128,)\n",
      "chk err  0.0\n",
      "<class 'numpy.ndarray'> (128,) complex128\n",
      "40.0 2000\n",
      "(128,) (128,)\n"
     ]
    }
   ],
   "source": [
    "\n",
    "dt = 0.001\n",
    "\n",
    "\n",
    "frames, x, err_l, mass_l,mass_err_l = solve_1d_example(128,dt)"
   ]
  },
  {
   "cell_type": "code",
   "execution_count": 3,
   "id": "56fe0f24",
   "metadata": {},
   "outputs": [],
   "source": [
    "#3-d Linear example\n",
    "\n",
    "# Higueras (17)\n",
    "A    = np.array([[0,0,0],[5/6.,0,0],[11/24,11/24,0]])\n",
    "Ahat = np.array([[2./11,0,0],[205/462.,2./11,0],[2033/4620,21/110,2/11]])\n",
    "b = np.array([24/55.,1./5,4./11])\n",
    "bhat = b\n",
    "\n",
    "imx = ImEx(3,Ahat,A,bhat,b)\n",
    "\n",
    "\n",
    "\n",
    "def rhs_f(u,xi2,m,n):\n",
    "    # Evaluate only the non-stiff nonlinear term\n",
    "    #m = args[1]\n",
    "    #n = args[2]\n",
    "    v = (1.0-2.0*np.pi*n*np.pi*n/(m**2))\n",
    "    \n",
    "    \n",
    "    \n",
    "    return (-1j*m*v*u)\n",
    "\n",
    "def im_rhs(psi_ft,xi2,m,n):\n",
    "   \n",
    "    psi_ft = -psi_ft*(xi2)\n",
    "    return(1j*0.5*np.fft.ifftn(psi_ft,psi_ft.shape)/(3.0*m))\n",
    "\n",
    "def sol_err(psi,t,nx,T,max_err=-1.0):\n",
    "\n",
    "    sol = np.exp(-1j*(2.0*t*np.pi/T))*np.sin(2.0*np.pi*nx)\n",
    "    #print(\"sol shape\",sol.shape,\"psi.shape\",psi.shape)\n",
    "    err = np.square(np.abs(sol-psi).flatten()).sum()\n",
    "    err = err/(np.square(np.abs(sol).flatten()).sum())\n",
    "    if(err>max_err):\n",
    "        max_err = err\n",
    "    return(max_err)\n",
    "\n",
    "\n",
    "def solve_3d_example(m,dt):\n",
    "    L = 2.0\n",
    "    \n",
    "    x = np.arange(-m/2,m/2)*(L/m)\n",
    "    xv,yv,zv = np.meshgrid(x,x,x)\n",
    "    xi = np.fft.fftfreq(m)*m*2*np.pi/L\n",
    "    xix,xiy,xiz = np.meshgrid(xi,xi,xi)\n",
    "    pm = 0.1\n",
    "    pn = 2.0/L\n",
    "   \n",
    "    nx = pn*xv+pn*yv+pn*zv\n",
    "    \n",
    "    #nx = np.dot(pnv,xv)\n",
    "    print(\"nx shape\",nx.shape,\"x shape\",x.shape)\n",
    "    \n",
    "    T = 2.0*np.pi/pm\n",
    "    \n",
    "    \n",
    "    u = np.exp(-1j*0.0)*np.sin(2.0*np.pi*nx)\n",
    "    \n",
    "    chk_err = sol_err(u,0.0,nx,T,-1.0)\n",
    "    print(\"chk err \",chk_err)\n",
    "   \n",
    "    print(type(u),u.shape,u.dtype)\n",
    "    tmax = 2.0\n",
    "\n",
    "    \n",
    "\n",
    "    num_plots = 50\n",
    "    nplt = np.floor((tmax/num_plots)/dt)\n",
    "    nmax = int(round(tmax/dt))\n",
    "    #print(nplt,\"nmax\",nmax)\n",
    "\n",
    "    frames = [u.copy()]\n",
    "    tt = [0]\n",
    "    err_l = []\n",
    "    mass_l = []\n",
    "    mass_err_l=[]\n",
    "    \n",
    "\n",
    "    \n",
    "    \n",
    "    psi = GPE_scalar_field(3,m,im_rhs,rhs_f,imx,u)\n",
    "    xi2 = (xix*xix+xiy*xiy+xiz*xiz)\n",
    "    lmbda = (0.5*xi2)/(3.0*pm)\n",
    "    \n",
    "    max_err = -1.0\n",
    "    \n",
    "        \n",
    "    for n in range(0,nmax):\n",
    "        \n",
    "        #print(n)\n",
    "        for k in range(imx.s):\n",
    "            psi.update_stage_sum(k,dt)\n",
    "            psi.do_fft(k,lmbda,dt)\n",
    "            psi.update_K(k,xi2,pm,pn)\n",
    "        psi.sum_contributions(dt)\n",
    "        \n",
    "        \n",
    "        t = (n+1)*dt\n",
    "        if np.mod(n,nplt) == 0:\n",
    "            frames.append(psi.psi)\n",
    "            tt.append(t)\n",
    "            err = sol_err(psi.psi,t,nx,T,max_err)\n",
    "            err_l.append(err)\n",
    "            \n",
    "            mass = psi.calc_mass()\n",
    "            mass_err = (mass-psi.mass_ini)/psi.mass_ini\n",
    "            \n",
    "            mass_l.append(mass)\n",
    "            mass_err_l.append(mass_err)\n",
    "            \n",
    "\n",
    "\n",
    "    err = sol_err(psi.psi,t,nx,T,max_err)\n",
    "    err_l.append(err)\n",
    "            \n",
    "    mass = psi.calc_mass()\n",
    "    mass_err = (mass-psi.mass_ini)/psi.mass_ini\n",
    "            \n",
    "    mass_l.append(mass)\n",
    "    mass_err_l.append(mass_err)\n",
    "       \n",
    "    return frames, x,err_l,mass_l,mass_err_l"
   ]
  },
  {
   "cell_type": "code",
   "execution_count": 8,
   "id": "b21ef8fb",
   "metadata": {},
   "outputs": [
    {
     "name": "stdout",
     "output_type": "stream",
     "text": [
      "nx shape (64, 64, 64) x shape (64,)\n",
      "chk err  0.0\n",
      "<class 'numpy.ndarray'> (64, 64, 64) complex128\n",
      "class shapes (64, 64, 64) (3, 64, 64, 64)\n",
      "(64, 64, 64) (64, 64, 64)\n"
     ]
    }
   ],
   "source": [
    "\n",
    "dt = 0.01\n",
    "\n",
    "\n",
    "frames, x, err_l, mass_l,mass_err_l = solve_3d_example(64,dt)"
   ]
  },
  {
   "cell_type": "code",
   "execution_count": 8,
   "id": "b7878670",
   "metadata": {},
   "outputs": [
    {
     "data": {
      "text/plain": [
       "[4.53244212345019e-16, 8.729216573338672e-15]"
      ]
     },
     "execution_count": 8,
     "metadata": {},
     "output_type": "execute_result"
    }
   ],
   "source": [
    "err_l"
   ]
  },
  {
   "cell_type": "code",
   "execution_count": 10,
   "id": "a90bd739",
   "metadata": {},
   "outputs": [
    {
     "data": {
      "text/plain": [
       "[<matplotlib.lines.Line2D at 0x10fc02d10>]"
      ]
     },
     "execution_count": 10,
     "metadata": {},
     "output_type": "execute_result"
    },
    {
     "data": {
      "image/png": "[encoded data removed]",
      "text/plain": [
       "<Figure size 640x480 with 1 Axes>"
      ]
     },
     "metadata": {},
     "output_type": "display_data"
    }
   ],
   "source": [
    "plt.plot(mass_err_l)"
   ]
  },
  {
   "cell_type": "code",
   "execution_count": 33,
   "id": "f50f03d2",
   "metadata": {},
   "outputs": [],
   "source": [
    "f = np.fft.fftn(u,u.shape)"
   ]
  },
  {
   "cell_type": "code",
   "execution_count": 35,
   "id": "e9aa109c",
   "metadata": {},
   "outputs": [],
   "source": [
    "uf = np.fft.ifftn(f,f.shape)"
   ]
  },
  {
   "cell_type": "code",
   "execution_count": 39,
   "id": "f489ad2e",
   "metadata": {},
   "outputs": [],
   "source": [
    "r=u-uf\n"
   ]
  },
  {
   "cell_type": "code",
   "execution_count": 40,
   "id": "605421bb",
   "metadata": {},
   "outputs": [],
   "source": [
    "rr = np.abs(r).flatten()"
   ]
  },
  {
   "cell_type": "code",
   "execution_count": 41,
   "id": "225206d6",
   "metadata": {},
   "outputs": [
    {
     "data": {
      "text/plain": [
       "[<matplotlib.lines.Line2D at 0x127e57130>]"
      ]
     },
     "execution_count": 41,
     "metadata": {},
     "output_type": "execute_result"
    },
    {
     "data": {
      "image/png": "[encoded data removed]",
      "text/plain": [
       "<Figure size 640x480 with 1 Axes>"
      ]
     },
     "metadata": {},
     "output_type": "display_data"
    }
   ],
   "source": [
    "plt.plot(rr,\"b*\")"
   ]
  },
  {
   "cell_type": "code",
   "execution_count": null,
   "id": "123e07a4",
   "metadata": {},
   "outputs": [],
   "source": []
  }
 ],
 "metadata": {
  "kernelspec": {
   "display_name": "Python 3 (ipykernel)",
   "language": "python",
   "name": "python3"
  },
  "language_info": {
   "codemirror_mode": {
    "name": "ipython",
    "version": 3
   },
   "file_extension": ".py",
   "mimetype": "text/x-python",
   "name": "python",
   "nbconvert_exporter": "python",
   "pygments_lexer": "ipython3",
   "version": "3.10.11"
  }
 },
 "nbformat": 4,
 "nbformat_minor": 5
}
